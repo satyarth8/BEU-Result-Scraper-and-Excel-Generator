{
 "cells": [
  {
   "cell_type": "code",
   "execution_count": null,
   "id": "900a39ea",
   "metadata": {},
   "outputs": [],
   "source": []
  },
  {
   "cell_type": "code",
   "execution_count": 3,
   "id": "998ae923",
   "metadata": {},
   "outputs": [
    {
     "name": "stdout",
     "output_type": "stream",
     "text": [
      "1707251995.5652678\n",
      "19 points ---  Instruction-Based Image Editing via LLM (github.com/apple)\n",
      "https://github.com/apple/ml-mgie\n",
      "\n",
      "1707252057.0448492\n",
      "19 points ---  Instruction-Based Image Editing via LLM (github.com/apple)\n",
      "https://github.com/apple/ml-mgie\n",
      "\n",
      "1707252118.325601\n",
      "19 points ---  Instruction-Based Image Editing via LLM (github.com/apple)\n",
      "https://github.com/apple/ml-mgie\n",
      "\n",
      "1707252179.874137\n",
      "19 points ---  Instruction-Based Image Editing via LLM (github.com/apple)\n",
      "https://github.com/apple/ml-mgie\n",
      "\n",
      "1707252241.418817\n",
      "19 points ---  Instruction-Based Image Editing via LLM (github.com/apple)\n",
      "https://github.com/apple/ml-mgie\n",
      "\n",
      "1707252302.8316772\n",
      "19 points ---  Instruction-Based Image Editing via LLM (github.com/apple)\n",
      "https://github.com/apple/ml-mgie\n",
      "\n"
     ]
    },
    {
     "ename": "KeyboardInterrupt",
     "evalue": "",
     "output_type": "error",
     "traceback": [
      "\u001b[1;31m---------------------------------------------------------------------------\u001b[0m",
      "\u001b[1;31mKeyboardInterrupt\u001b[0m                         Traceback (most recent call last)",
      "\u001b[1;32m~\\AppData\\Local\\Temp\\ipykernel_21608\\3688882132.py\u001b[0m in \u001b[0;36m<module>\u001b[1;34m\u001b[0m\n\u001b[0;32m     19\u001b[0m             \u001b[0mprint\u001b[0m\u001b[1;33m(\u001b[0m\u001b[0mtitle\u001b[0m\u001b[1;33m[\u001b[0m\u001b[0mi\u001b[0m\u001b[1;33m]\u001b[0m\u001b[1;33m.\u001b[0m\u001b[0mfind\u001b[0m\u001b[1;33m(\u001b[0m\u001b[1;34m\"a\"\u001b[0m\u001b[1;33m)\u001b[0m\u001b[1;33m[\u001b[0m\u001b[1;34m'href'\u001b[0m\u001b[1;33m]\u001b[0m\u001b[1;33m)\u001b[0m\u001b[1;33m\u001b[0m\u001b[1;33m\u001b[0m\u001b[0m\n\u001b[0;32m     20\u001b[0m             \u001b[0mprint\u001b[0m\u001b[1;33m(\u001b[0m\u001b[1;33m)\u001b[0m\u001b[1;33m\u001b[0m\u001b[1;33m\u001b[0m\u001b[0m\n\u001b[1;32m---> 21\u001b[1;33m     \u001b[0mtime\u001b[0m\u001b[1;33m.\u001b[0m\u001b[0msleep\u001b[0m\u001b[1;33m(\u001b[0m\u001b[1;36m60\u001b[0m\u001b[1;33m)\u001b[0m\u001b[1;33m\u001b[0m\u001b[1;33m\u001b[0m\u001b[0m\n\u001b[0m",
      "\u001b[1;31mKeyboardInterrupt\u001b[0m: "
     ]
    }
   ],
   "source": [
    "from bs4 import BeautifulSoup\n",
    "import requests\n",
    "import time \n",
    "\n",
    "fkeyword=[\"Data science\",\"Machine Learning\",\"Artificial Intelligence\",\"apple\"]\n",
    "\n",
    "\n",
    "    print(time.time())\n",
    "    url=\"https://news.ycombinator.com/\"\n",
    "    res=requests.get(url)\n",
    "    soup=BeautifulSoup(res.text)\n",
    "    \n",
    "    title =soup.select(\".titleline\")\n",
    "    score=soup.select(\".score\")\n",
    "    for i in range(0,20):\n",
    "        if any(keyword in title[i].get_text() for keyword in fkeyword):\n",
    "            print(score[i].get_text(),\"--- \",title[i].get_text())\n",
    "            #print(soup.select('.titleline')[i].find(\"a\")['href'])\n",
    "            print(title[i].find(\"a\")['href'])\n",
    "            print()\n",
    "    time.sleep(60)"
   ]
  },
  {
   "cell_type": "code",
   "execution_count": null,
   "id": "809430f6",
   "metadata": {},
   "outputs": [],
   "source": [
    "\n",
    "import csv\n",
    "with open(\"output1234.csv\",'w',newline='')as csvfile:\n",
    "    csvwriter=csv.writer(csvfile)\n",
    "    csvwriter.writerow([\"link\",\"Text\",\"score\"])\n",
    "    for i in range(0,20):\n",
    "        csvwriter.writerow(print(title[i].find(\"a\")['href']),title[i].get_text(),score[i].get_text())"
   ]
  },
  {
   "cell_type": "code",
   "execution_count": null,
   "id": "aa163683",
   "metadata": {},
   "outputs": [],
   "source": []
  }
 ],
 "metadata": {
  "kernelspec": {
   "display_name": "Python 3 (ipykernel)",
   "language": "python",
   "name": "python3"
  },
  "language_info": {
   "codemirror_mode": {
    "name": "ipython",
    "version": 3
   },
   "file_extension": ".py",
   "mimetype": "text/x-python",
   "name": "python",
   "nbconvert_exporter": "python",
   "pygments_lexer": "ipython3",
   "version": "3.9.13"
  }
 },
 "nbformat": 4,
 "nbformat_minor": 5
}
