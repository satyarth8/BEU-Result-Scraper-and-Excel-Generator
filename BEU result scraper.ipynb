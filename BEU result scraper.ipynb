{
 "cells": [
  {
   "cell_type": "code",
   "execution_count": 45,
   "id": "8e328e60",
   "metadata": {},
   "outputs": [],
   "source": [
    "url=\"http://results.beup.ac.in/ResultsBTech1stSem2022_B2022Pub.aspx?Sem=I&RegNo=22155154005\""
   ]
  },
  {
   "cell_type": "code",
   "execution_count": 46,
   "id": "b7a7797e",
   "metadata": {},
   "outputs": [],
   "source": [
    "import requests"
   ]
  },
  {
   "cell_type": "code",
   "execution_count": 47,
   "id": "0232f996",
   "metadata": {},
   "outputs": [],
   "source": [
    "data=requests.get(url)"
   ]
  },
  {
   "cell_type": "code",
   "execution_count": 48,
   "id": "e90be538",
   "metadata": {},
   "outputs": [
    {
     "data": {
      "text/plain": [
       "200"
      ]
     },
     "execution_count": 48,
     "metadata": {},
     "output_type": "execute_result"
    }
   ],
   "source": [
    "data.status_code"
   ]
  },
  {
   "cell_type": "code",
   "execution_count": 49,
   "id": "7b3dc8af",
   "metadata": {},
   "outputs": [
    {
     "data": {
      "text/plain": [
       "True"
      ]
     },
     "execution_count": 49,
     "metadata": {},
     "output_type": "execute_result"
    }
   ],
   "source": [
    "data.ok"
   ]
  },
  {
   "cell_type": "code",
   "execution_count": 50,
   "id": "68d6d39a",
   "metadata": {},
   "outputs": [
    {
     "data": {
      "text/plain": [
       "'\\r\\n\\r\\n<!DOCTYPE html PUBLIC \"-//W3C//DTD XHTML 1.0 Transitional//EN\" \"http://www.w3.org/TR/xhtml1/DTD/xhtml1-transitional.dtd\">\\r\\n\\r\\n<html xmlns=\"http://www.w3.org/1999/xhtml\">\\r\\n<head><title>\\r\\n\\t.:BEU, Patna - Results official website:.\\r\\n</title>\\r\\n    \\r\\n   <script type=\"text/javascript\" src=\"http://code.jquery.com/jquery-1.8.2.js\"></script>\\r\\n    <script src=\"jQuery.print.js\" type=\"text/javascript\"></script>\\r\\n<script type=\"text/javascript\">\\r\\n    $(function () {\\r\\n        $(\"#hrefPrint\").click(function () {\\r\\n            // Print the DIV.\\r\\n            $(\"#printarea\").print();\\r\\n            return (false);\\r\\n        });\\r\\n    });\\r\\n</script>\\r\\n    <style type=\"text/css\">\\r\\n        .style1\\r\\n        {\\r\\n            width: 100%;\\r\\n            border-left: 1px solid #A0A0A0;\\r\\n            border-right-style: solid;\\r\\n            border-right-width: 1px;\\r\\n            border-top: 1px solid #A0A0A0;\\r\\n            border-bottom-style: solid;\\r\\n            border-bottom-width: 1px;\\r\\n            text-align:left;\\r\\n        }\\r\\n        \\r\\n        .style5\\r\\n        {            text-align: left;\\r\\n        }\\r\\n        .style6\\r\\n        {\\r\\n            width: 100%;\\r\\n            border-left: 1px solid #A0A0A0;\\r\\n            border-right-style: solid;\\r\\n            border-right-width: 1px;\\r\\n            border-top: 1px solid #A0A0A0;\\r\\n            border-bottom-style: solid;\\r\\n            border-bottom-width: 1px;\\r\\n        }\\r\\n        .style7\\r\\n        {\\r\\n            width: 100%;\\r\\n        }\\r\\n        .style9\\r\\n        {\\r\\n            font-size: xx-large;\\r\\n        }\\r\\n        .style11\\r\\n        {\\r\\n            width: 472px;\\r\\n            text-align: left;\\r\\n        }\\r\\n    </style>\\r\\n<link href=\"resstyles/layout.css\" rel=\"stylesheet\" type=\"text/css\" />  \\r\\n    <!-- Homepage Specific Elements -->\\r\\n    \\r\\n    <link href=\"resstyles/menu.css\" rel=\"stylesheet\" type=\"text/css\" /><link href=\"resstyles/tables.css\" rel=\"stylesheet\" type=\"text/css\" />\\r\\n    <script language=\"javascript\" type=\"text/javascript\">\\r\\n        function MakeActive() {\\r\\n        \\r\\n            document.getElementById(\\'home_about\\').className = \\'active\\';\\r\\n\\r\\n        }\\r\\n\\r\\n    </script>\\r\\n    <!--AKU.in Google Analytics Code-->\\r\\n   <script type=\"text/javascript\">\\r\\n       (function (i, s, o, g, r, a, m) {\\r\\n           i[\\'GoogleAnalyticsObject\\'] = r; i[r] = i[r] || function () {\\r\\n               (i[r].q = i[r].q || []).push(arguments)\\r\\n           }, i[r].l = 1 * new Date(); a = s.createElement(o),\\r\\n  m = s.getElementsByTagName(o)[0]; a.async = 1; a.src = g; m.parentNode.insertBefore(a, m)\\r\\n       })(window, document, \\'script\\', \\'https://www.google-analytics.com/analytics.js\\', \\'ga\\');\\r\\n\\r\\n       ga(\\'create\\', \\'UA-77420316-1\\', \\'auto\\');\\r\\n       ga(\\'send\\', \\'pageview\\');\\r\\n\\r\\n</script>\\r\\n<!-- End Homepage Specific Elements -->\\r\\n    <style type=\"text/css\">\\r\\n        .searchalign\\r\\n        {\\r\\n            margin-top:2px;\\r\\n            position:relative;\\r\\n        }\\r\\n         @font-face {\\r\\n    font-family: KrutiDev010;\\r\\n    src: url(\"resstyles/KrutiDev010.ttf\") /* TTF file for CSS3 browsers */\\r\\n}\\r\\n    </style>\\r\\n</head>\\r\\n<body id=\"top\">\\r\\n    \\r\\n<form method=\"post\" action=\"./ResultsBTech1stSem2022_B2022Pub.aspx?Sem=I&amp;RegNo=22155154015\" id=\"form1\">\\r\\n<input type=\"hidden\" name=\"__VIEWSTATE\" id=\"__VIEWSTATE\" value=\"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\" />\\r\\n\\r\\n\\r\\n<script src=\"/ScriptResource.axd?d=w27YIBmqq-gVWogfoMD3yOFJbq3gGoKsujUxlTvhzzWfxR-vFR9a75SoBduswMRiWNQiiO8WeKJVqrrMN-MPvdO73RPRyz6_IJAt7ZwvIca2IHHWPyQkqVJBL8ASZHJV8Rqgp-DRbP_9i4EZMm5or4qNV9CMkEyWlu-4wKubj0ImGJFpdCdAwejRhdw9iNHk0&amp;t=722fe453\" type=\"text/javascript\"></script>\\r\\n<script type=\"text/javascript\">\\r\\n//<![CDATA[\\r\\nif (typeof(Sys) === \\'undefined\\') throw new Error(\\'ASP.NET Ajax client-side framework failed to load.\\');\\r\\n//]]>\\r\\n</script>\\r\\n\\r\\n<input type=\"hidden\" name=\"__VIEWSTATEGENERATOR\" id=\"__VIEWSTATEGENERATOR\" value=\"8B32C4DE\" />\\r\\n<input type=\"hidden\" name=\"__VIEWSTATEENCRYPTED\" id=\"__VIEWSTATEENCRYPTED\" value=\"\" />\\r\\n<input type=\"hidden\" name=\"__EVENTVALIDATION\" id=\"__EVENTVALIDATION\" value=\"bP6LNLEhzbJAmycU+6xPsIK701A53KDzme0DBZuLcOK9+AmaJXofKX2CdJaCXN9vbLCTxjg6C64tKxiDpWQUI0kwIqAM0k6AksAwuXg8MXJ/kzJl97indmdzHuLPBjJ0aDIxlsTNEoTvvrUGbGe9hH9N3GzBEtU3SUNOMr97Rcg=\" />\\r\\n\\r\\n<div class=\"wrapper row1\">\\r\\n  <div id=\"header\" class=\"clear\">\\r\\n    \\r\\n    <div class=\"fl_left\" style=\"margin-top:5px;\">\\r\\n      <h1><a href=\"../Default.aspx\">Bihar Engineering University, Patna</a></h1>\\r\\n    </div>\\r\\n    <div class=\"fl_right\" style=\"margin-top:10px; margin-right:10px\">\\r\\n      \\r\\n      \\r\\n        \\r\\n     \\r\\n    </div>\\r\\n  </div>\\r\\n</div>\\r\\n<!-- ####################################################################################################### -->\\r\\n\\r\\n<div class=\"wrapper\">\\r\\n \\r\\n</div>\\r\\n<!-- ####################################################################################################### -->\\r\\n<div class=\"wrapper\">\\r\\n  \\r\\n</div>\\r\\n<!-- ####################################################################################################### -->\\r\\n<div class=\"wrapper row3\">\\r\\n    \\r\\n    <div class=\"rnd\">\\r\\n     <div id=\"printarea\" style=\"font-family:Tahoma; font-size:14px\">\\r\\n    <div id=\"container\" class=\"clear\" style=\"background-image: url(\\'images/logowatermark.png\\'); background-repeat: no-repeat; background-position: center center\">\\r\\n        \\r\\n        <input type=\"hidden\" name=\"ctl00$ContentPlaceHolder1$HiddenField_Roll\" id=\"ContentPlaceHolder1_HiddenField_Roll\" value=\"22155154015\" />\\r\\n        <input type=\"hidden\" name=\"ctl00$ContentPlaceHolder1$HiddenField_Sem\" id=\"ContentPlaceHolder1_HiddenField_Sem\" />\\r\\n        \\r\\n        \\r\\n        <table class=\"style7\">\\r\\n            <tr>\\r\\n                <td style=\"text-align: right\">\\r\\n                    <a id=\"ContentPlaceHolder1_HyperLink_Back\" href=\"BTech1stSem2022_B2022Results.aspx\">View another Result</a>\\r\\n                </td>\\r\\n            </tr>\\r\\n           <tr>\\r\\n                <td><br />\\r\\n                    <p style=\"text-transform:uppercase;text-align:center; font-weight:bold;\" class=\"style9\">Bihar Engineering University, Patna</p></td>\\r\\n            </tr>\\r\\n            <tr>\\r\\n                <td style=\"text-align:center\">\\r\\n                     <table id=\"ContentPlaceHolder1_DataList4\" cellspacing=\"0\" width=\"910\">\\r\\n\\t<tr>\\r\\n\\t\\t<td>                                         \\r\\n                            \\r\\n                            <span id=\"ContentPlaceHolder1_DataList4_Exam_Name_0\" style=\"font-weight: 700; color: #FF3300;text-align:center; font-size:medium;\"><font color=\"Red\">B.Tech. 1<sup>st</sup> Semester Examination, 2022</font></span>\\r\\n            </td>\\r\\n\\t</tr>\\r\\n</table>\\r\\n        </td>\\r\\n            </tr>\\r\\n        </table>\\r\\n        <table id=\"ContentPlaceHolder1_DataList2\" width=\"100%\">\\r\\n\\t<tr>\\r\\n\\t\\t<td>\\r\\n                            \\r\\n                            <table class=\"style1\" border=\"1\">\\r\\n                                <tr>\\r\\n                                    <td class=\"style11\">\\r\\n                                        <strong>Semester : </strong><span id=\"ContentPlaceHolder1_DataList2_Exam_Name_0\">I</span></td>\\r\\n                                    <td class=\"style5\">\\r\\n                                        <strong>Examination(Month/Year) : </strong>MAY/2023</td>\\r\\n                                </tr>\\r\\n                            </table>\\r\\n                        </td>\\r\\n\\t</tr>\\r\\n</table>\\r\\n        <table id=\"ContentPlaceHolder1_DataList1\" width=\"100%\">\\r\\n\\t<tr>\\r\\n\\t\\t<td>\\r\\n                <table class=\"style1\" border=\"1\">\\r\\n                    <tr>\\r\\n                    <td class=\"style5\">\\r\\n                            <b>Registration No:</b></td>\\r\\n                        <td class=\"style5\" colspan=\"3\">\\r\\n                            <span id=\"ContentPlaceHolder1_DataList1_RegistrationNoLabel_0\" style=\"font-weight: 700\">22155154015 </span>\\r\\n                        </td>\\r\\n                        \\r\\n                    </tr>\\r\\n                    <tr>\\r\\n                        <td class=\"style5\">\\r\\n                            <b>Student Name:</b></td>\\r\\n                        <td colspan=\"3\" class=\"style5\">\\r\\n                            <span id=\"ContentPlaceHolder1_DataList1_StudentNameLabel_0\" style=\"font-weight: 700\">SATYARTHA PRAKASH</span>\\r\\n                        </td>\\r\\n                    </tr>\\r\\n                    <tr>\\r\\n                        <td class=\"style5\">\\r\\n                            <b>Father Name:</b></td>\\r\\n                        <td class=\"style5\">\\r\\n                            <span id=\"ContentPlaceHolder1_DataList1_FatherNameLabel_0\">BINOD KUMAR MANDAL</span>\\r\\n                        </td>\\r\\n                        <td class=\"style5\">\\r\\n                            <strong>MotherName:</strong></td>\\r\\n                        <td class=\"style5\">\\r\\n                            <span id=\"ContentPlaceHolder1_DataList1_MotherNameLabel_0\">SINDHU KUMARI</span>\\r\\n                        </td>\\r\\n                    </tr>\\r\\n                    <tr>\\r\\n                        <td class=\"style5\">\\r\\n                            <b>College Name:</b></td>\\r\\n                        <td colspan=\"3\" class=\"style5\">\\r\\n                            <span id=\"ContentPlaceHolder1_DataList1_CollegeCodeLabel_0\">154</span>\\r\\n                            -<span id=\"ContentPlaceHolder1_DataList1_CollegeNameLabel_0\">GOVERNMENT ENGINEERING COLLEGE, KHAGARIA</span>                                                           \\r\\n                        </td>\\r\\n                    </tr>\\r\\n                    <tr>\\r\\n                        <td class=\"style5\">\\r\\n                            <b>Course Name:</b></td>\\r\\n                        <td colspan=\"3\" class=\"style5\">\\r\\n                            <span id=\"ContentPlaceHolder1_DataList1_CourseCodeLabel_0\">155</span>\\r\\n                            -<span id=\"ContentPlaceHolder1_DataList1_CourseLabel_0\">Computer Science and Engineering (Internet of Things)</span>\\r\\n                        </td>\\r\\n                    </tr>\\r\\n                </table>             \\r\\n               \\r\\n            </td>\\r\\n\\t</tr>\\r\\n</table>\\r\\n        <br />\\r\\n        <div>\\r\\n\\t<table cellspacing=\"0\" rules=\"all\" border=\"1\" id=\"ContentPlaceHolder1_GridView1\" width=\"910\">\\r\\n\\t\\t<caption>\\r\\n\\t\\t\\tTHEORY\\r\\n\\t\\t</caption><tr align=\"center\">\\r\\n\\t\\t\\t<th scope=\"col\">Subject Code</th><th scope=\"col\">Subject Name</th><th scope=\"col\">ESE</th><th scope=\"col\">IA</th><th scope=\"col\">Total</th><th scope=\"col\">Grade</th><th scope=\"col\">Credit</th>\\r\\n\\t\\t</tr><tr align=\"left\">\\r\\n\\t\\t\\t<td align=\"center\">100103</td><td align=\"left\">CHEMISTRY</td><td align=\"center\">49</td><td align=\"center\">28</td><td align=\"center\">77</td><td align=\"center\">B  </td><td align=\"center\">4.00</td>\\r\\n\\t\\t</tr><tr align=\"left\">\\r\\n\\t\\t\\t<td align=\"center\">100104</td><td align=\"left\">PROGRAMMING FOR PROBLEM SOLVING</td><td align=\"center\">67</td><td align=\"center\">28</td><td align=\"center\">95</td><td align=\"center\">A+ </td><td align=\"center\">3.00</td>\\r\\n\\t\\t</tr><tr align=\"left\">\\r\\n\\t\\t\\t<td align=\"center\">100105</td><td align=\"left\">WORKSHOP MANUFACTURING PRACTICES</td><td align=\"center\">55</td><td align=\"center\">29</td><td align=\"center\">84</td><td align=\"center\">A  </td><td align=\"center\">1.00</td>\\r\\n\\t\\t</tr><tr align=\"left\">\\r\\n\\t\\t\\t<td align=\"center\">100106</td><td align=\"left\">ENGLISH</td><td align=\"center\">56</td><td align=\"center\">29</td><td align=\"center\">85</td><td align=\"center\">A  </td><td align=\"center\">2.00</td>\\r\\n\\t\\t</tr><tr align=\"left\">\\r\\n\\t\\t\\t<td align=\"center\">105102</td><td align=\"left\">MATHEMATICS - I (CALCULUS AND LINEAR ALGEBRA)</td><td align=\"center\">34</td><td align=\"center\">18</td><td align=\"center\">52</td><td align=\"center\">D  </td><td align=\"center\">4.00</td>\\r\\n\\t\\t</tr>\\r\\n\\t</table>\\r\\n</div>\\r\\n        <div>\\r\\n\\t<table cellspacing=\"0\" rules=\"all\" border=\"1\" id=\"ContentPlaceHolder1_GridView2\" width=\"910\">\\r\\n\\t\\t<caption>\\r\\n\\t\\t\\tPRACTICAL\\r\\n\\t\\t</caption><tr align=\"center\">\\r\\n\\t\\t\\t<th scope=\"col\">Subject Code</th><th scope=\"col\">Subject Name</th><th scope=\"col\">ESE</th><th scope=\"col\">IA</th><th scope=\"col\">Total</th><th scope=\"col\">Grade</th><th scope=\"col\">Credit</th>\\r\\n\\t\\t</tr><tr align=\"left\">\\r\\n\\t\\t\\t<td align=\"center\">100103P</td><td align=\"left\">CHEMISTRY</td><td align=\"center\">29</td><td align=\"center\">18</td><td align=\"center\">47</td><td align=\"center\">A+</td><td align=\"center\">1.50</td>\\r\\n\\t\\t</tr><tr align=\"left\">\\r\\n\\t\\t\\t<td align=\"center\">100104P</td><td align=\"left\">PROGRAMMING FOR PROBLEM SOLVING</td><td align=\"center\">29</td><td align=\"center\">19</td><td align=\"center\">48</td><td align=\"center\">A+</td><td align=\"center\">2.00</td>\\r\\n\\t\\t</tr><tr align=\"left\">\\r\\n\\t\\t\\t<td align=\"center\">100105P</td><td align=\"left\">WORKSHOP MANUFACTURING PRACTICES</td><td align=\"center\">25</td><td align=\"center\">19</td><td align=\"center\">44</td><td align=\"center\">A </td><td align=\"center\">2.00</td>\\r\\n\\t\\t</tr><tr align=\"left\">\\r\\n\\t\\t\\t<td align=\"center\">100106P</td><td align=\"left\">ENGLISH</td><td align=\"center\">24</td><td align=\"center\">19</td><td align=\"center\">43</td><td align=\"center\">A </td><td align=\"center\">1.00</td>\\r\\n\\t\\t</tr>\\r\\n\\t</table>\\r\\n</div>\\r\\n        <table id=\"ContentPlaceHolder1_DataList5\" cellspacing=\"0\" width=\"910\">\\r\\n\\t<tr>\\r\\n\\t\\t<td>\\r\\n                <table class=\"style6\" border=\"1\">\\r\\n                    <tr>\\r\\n                        <td width=\"50%\" style=\"text-align: right\">                            \\r\\n                            <strong>SGPA : </strong>\\r\\n                            <span id=\"ContentPlaceHolder1_DataList5_GROSSTHEORYTOTALLabel_0\" style=\"font-weight: 700\">8.54</span>\\r\\n                        </td>\\r\\n                    </tr>\\r\\n                </table>\\r\\n            </td>\\r\\n\\t</tr>\\r\\n</table>\\r\\n        <table border=\"1\" style=\"width:100%\">\\r\\n            <tr>\\r\\n                <td width=\"10%\">\\r\\n                    <table border=\"1\">\\r\\n                        <tr>\\r\\n                            <td>\\r\\n                                <b>Semester: \\r\\n                            </b> \\r\\n                            </td>\\r\\n                        </tr>\\r\\n                        <tr>\\r\\n                            <td>\\r\\n                                <b>SGPA: \\r\\n                            </b> \\r\\n                            </td>\\r\\n                        </tr>\\r\\n                        </table>\\r\\n                </td>\\r\\n                <td>\\r\\n                    <div>\\r\\n\\t<table cellspacing=\"0\" rules=\"all\" border=\"1\" id=\"ContentPlaceHolder1_GridView3\" width=\"100%\">\\r\\n\\t\\t<tr align=\"center\">\\r\\n\\t\\t\\t<th scope=\"col\">I</th><th scope=\"col\">II</th><th scope=\"col\">III</th><th scope=\"col\">IV</th><th scope=\"col\">V</th><th scope=\"col\">VI</th><th scope=\"col\">VII</th><th scope=\"col\">VIII</th><th scope=\"col\">Cur. CGPA</th>\\r\\n\\t\\t</tr><tr align=\"center\">\\r\\n\\t\\t\\t<td>8.54</td><td>NA</td><td>NA</td><td>NA</td><td>NA</td><td>NA</td><td>NA</td><td>NA</td><td>8.54</td>\\r\\n\\t\\t</tr>\\r\\n\\t</table>\\r\\n</div>\\r\\n                </td>\\r\\n            </tr>\\r\\n        </table>\\r\\n        <table id=\"ContentPlaceHolder1_DataList3\" cellspacing=\"0\" width=\"910\">\\r\\n\\t<tr>\\r\\n\\t\\t<td>\\r\\n                <table class=\"style6\" border=\"1\">\\r\\n                    <tr>\\r\\n                        <td width=\"50%\" style=\"text-align: left\">                            \\r\\n                            <strong>Remarks : </strong>\\r\\n                            <span id=\"ContentPlaceHolder1_DataList3_remarkLabel_0\" style=\"font-weight: 700\"><font color=\"Red\"></font></span>\\r\\n                        </td>\\r\\n                    </tr>\\r\\n                </table>\\r\\n            </td>\\r\\n\\t</tr>\\r\\n</table>\\r\\n        <h4 style=\"text-align:left;font-weight:bold\">NOTE:</h4>\\r\\n                <ul id=\"ContentPlaceHolder1_BulletedList1\" style=\"text-align: left\">\\r\\n\\t<li>ESE : End Semester Exam  </li><li>IA : Internal Assessment</li><li>SGPA : Semester Grade Point Average</li><li>CGPA : Cumulative Grade Point Average  </li><li>AB : Absent</li><li>NA : Not Applicable</li><li>N/A : Not Available</li><li>* : Passed Under Regulation(UR)</li><li>CA : Cancellation of Assessment</li><li>UMC : UnFair Mean Case</li><li>WEB COPY : Not valid for official purpose.</li><li>University does not own for the errors or omissions, if any, in the statement.</li>\\r\\n</ul>\\r\\n    </div>\\r\\n    </div>\\r\\n    <table width=\"100%\"><tr style=\"text-align:center\">\\r\\n            <td><a href=\"#\" id=\"hrefPrint\"><img src=\"images/printbutton.png\" alt=\"\"/></a>\\r\\n                \\r\\n            </td>\\r\\n        </tr>\\r\\n    </table>\\r\\n    </div>\\r\\n\\r\\n  \\r\\n</div>\\r\\n<!-- ####################################################################################################### -->\\r\\n<div class=\"wrapper row4\">\\r\\n  \\r\\n</div>\\r\\n<!-- ####################################################################################################### -->\\r\\n<div class=\"wrapper\">\\r\\n  <div id=\"copyright\" class=\"clear\">\\r\\n    <p class=\"fl_left\">Copyright &copy; 2023 onwards - All rights reserved - <a href=\"#\">Bihar Engineering University, Patna</a></p>\\r\\n   \\r\\n  </div>\\r\\n</div>\\r\\n</form>\\r\\n</body>\\r\\n</html>\\r\\n'"
      ]
     },
     "execution_count": 50,
     "metadata": {},
     "output_type": "execute_result"
    }
   ],
   "source": [
    "data.text\n"
   ]
  },
  {
   "cell_type": "code",
   "execution_count": 51,
   "id": "a48d0fa2",
   "metadata": {},
   "outputs": [],
   "source": [
    "from bs4 import BeautifulSoup"
   ]
  },
  {
   "cell_type": "code",
   "execution_count": 52,
   "id": "a5fd1315",
   "metadata": {},
   "outputs": [],
   "source": [
    "soup = BeautifulSoup(data.text)"
   ]
  },
  {
   "cell_type": "code",
   "execution_count": 53,
   "id": "9d35e5d2",
   "metadata": {
    "scrolled": true
   },
   "outputs": [
    {
     "data": {
      "text/plain": [
       "[<th scope=\"col\">Subject Code</th>,\n",
       " <th scope=\"col\">Subject Name</th>,\n",
       " <th scope=\"col\">ESE</th>,\n",
       " <th scope=\"col\">IA</th>,\n",
       " <th scope=\"col\">Total</th>,\n",
       " <th scope=\"col\">Grade</th>,\n",
       " <th scope=\"col\">Credit</th>]"
      ]
     },
     "execution_count": 53,
     "metadata": {},
     "output_type": "execute_result"
    }
   ],
   "source": [
    "soup.find(\"table\",attrs={\"id\":\"ContentPlaceHolder1_GridView1\"}).find_all(\"th\")"
   ]
  },
  {
   "cell_type": "code",
   "execution_count": 54,
   "id": "5187938f",
   "metadata": {},
   "outputs": [
    {
     "data": {
      "text/plain": [
       "[<td align=\"center\">100103</td>,\n",
       " <td align=\"left\">CHEMISTRY</td>,\n",
       " <td align=\"center\">49</td>,\n",
       " <td align=\"center\">28</td>,\n",
       " <td align=\"center\">77</td>,\n",
       " <td align=\"center\">B  </td>,\n",
       " <td align=\"center\">4.00</td>,\n",
       " <td align=\"center\">100104</td>,\n",
       " <td align=\"left\">PROGRAMMING FOR PROBLEM SOLVING</td>,\n",
       " <td align=\"center\">67</td>,\n",
       " <td align=\"center\">28</td>,\n",
       " <td align=\"center\">95</td>,\n",
       " <td align=\"center\">A+ </td>,\n",
       " <td align=\"center\">3.00</td>,\n",
       " <td align=\"center\">100105</td>,\n",
       " <td align=\"left\">WORKSHOP MANUFACTURING PRACTICES</td>,\n",
       " <td align=\"center\">55</td>,\n",
       " <td align=\"center\">29</td>,\n",
       " <td align=\"center\">84</td>,\n",
       " <td align=\"center\">A  </td>,\n",
       " <td align=\"center\">1.00</td>,\n",
       " <td align=\"center\">100106</td>,\n",
       " <td align=\"left\">ENGLISH</td>,\n",
       " <td align=\"center\">56</td>,\n",
       " <td align=\"center\">29</td>,\n",
       " <td align=\"center\">85</td>,\n",
       " <td align=\"center\">A  </td>,\n",
       " <td align=\"center\">2.00</td>,\n",
       " <td align=\"center\">105102</td>,\n",
       " <td align=\"left\">MATHEMATICS - I (CALCULUS AND LINEAR ALGEBRA)</td>,\n",
       " <td align=\"center\">34</td>,\n",
       " <td align=\"center\">18</td>,\n",
       " <td align=\"center\">52</td>,\n",
       " <td align=\"center\">D  </td>,\n",
       " <td align=\"center\">4.00</td>]"
      ]
     },
     "execution_count": 54,
     "metadata": {},
     "output_type": "execute_result"
    }
   ],
   "source": [
    "soup.find(\"table\",attrs={\"id\":\"ContentPlaceHolder1_GridView1\"}).find_all(\"td\")"
   ]
  },
  {
   "cell_type": "code",
   "execution_count": 55,
   "id": "09f404db",
   "metadata": {},
   "outputs": [],
   "source": [
    "#header table headers "
   ]
  },
  {
   "cell_type": "code",
   "execution_count": 56,
   "id": "fe35d465",
   "metadata": {},
   "outputs": [
    {
     "name": "stdout",
     "output_type": "stream",
     "text": [
      "[<th scope=\"col\">Subject Code</th>, <th scope=\"col\">Subject Name</th>, <th scope=\"col\">ESE</th>, <th scope=\"col\">IA</th>, <th scope=\"col\">Total</th>, <th scope=\"col\">Grade</th>, <th scope=\"col\">Credit</th>]\n"
     ]
    }
   ],
   "source": [
    "table  = soup.find(\"table\",attrs={\"id\":\"ContentPlaceHolder1_GridView1\"}).find_all(\"th\")\n",
    "print(table)"
   ]
  },
  {
   "cell_type": "code",
   "execution_count": 57,
   "id": "17196271",
   "metadata": {},
   "outputs": [
    {
     "data": {
      "text/plain": [
       "'Subject Code'"
      ]
     },
     "execution_count": 57,
     "metadata": {},
     "output_type": "execute_result"
    }
   ],
   "source": [
    "table[0].get_text()"
   ]
  },
  {
   "cell_type": "code",
   "execution_count": 58,
   "id": "980dfe8c",
   "metadata": {
    "scrolled": true
   },
   "outputs": [
    {
     "name": "stdout",
     "output_type": "stream",
     "text": [
      "['Subject Code', 'Subject Name', 'ESE', 'IA', 'Total', 'Grade', 'Credit']\n"
     ]
    }
   ],
   "source": [
    "header = []\n",
    "for i in range(0, len(table)):\n",
    "    header.append(table[i].get_text())\n",
    "print(header)\n"
   ]
  },
  {
   "cell_type": "code",
   "execution_count": 59,
   "id": "8e180ce1",
   "metadata": {},
   "outputs": [],
   "source": [
    "import pandas as pd\n",
    "df=pd.DataFrame(columns=header)"
   ]
  },
  {
   "cell_type": "code",
   "execution_count": 60,
   "id": "bc51649c",
   "metadata": {},
   "outputs": [
    {
     "data": {
      "text/html": [
       "<div>\n",
       "<style scoped>\n",
       "    .dataframe tbody tr th:only-of-type {\n",
       "        vertical-align: middle;\n",
       "    }\n",
       "\n",
       "    .dataframe tbody tr th {\n",
       "        vertical-align: top;\n",
       "    }\n",
       "\n",
       "    .dataframe thead th {\n",
       "        text-align: right;\n",
       "    }\n",
       "</style>\n",
       "<table border=\"1\" class=\"dataframe\">\n",
       "  <thead>\n",
       "    <tr style=\"text-align: right;\">\n",
       "      <th></th>\n",
       "      <th>Subject Code</th>\n",
       "      <th>Subject Name</th>\n",
       "      <th>ESE</th>\n",
       "      <th>IA</th>\n",
       "      <th>Total</th>\n",
       "      <th>Grade</th>\n",
       "      <th>Credit</th>\n",
       "    </tr>\n",
       "  </thead>\n",
       "  <tbody>\n",
       "  </tbody>\n",
       "</table>\n",
       "</div>"
      ],
      "text/plain": [
       "Empty DataFrame\n",
       "Columns: [Subject Code, Subject Name, ESE, IA, Total, Grade, Credit]\n",
       "Index: []"
      ]
     },
     "execution_count": 60,
     "metadata": {},
     "output_type": "execute_result"
    }
   ],
   "source": [
    "df"
   ]
  },
  {
   "cell_type": "code",
   "execution_count": 61,
   "id": "654daf0a",
   "metadata": {},
   "outputs": [
    {
     "data": {
      "text/plain": [
       "'100103'"
      ]
     },
     "execution_count": 61,
     "metadata": {},
     "output_type": "execute_result"
    }
   ],
   "source": [
    "soup.find(\"table\",attrs={\"id\":\"ContentPlaceHolder1_GridView1\"}).find_all(\"td\")[0].get_text()"
   ]
  },
  {
   "cell_type": "code",
   "execution_count": 66,
   "id": "65652237",
   "metadata": {},
   "outputs": [],
   "source": [
    "counter=0;\n",
    "row =[]\n",
    "no_subject=5\n",
    "for i in range(0,no_subject):\n",
    "    current_row=[]\n",
    "    for j in range(0, len(header)):\n",
    "        current_row.append(soup.find(\"table\",attrs={\"id\":\"ContentPlaceHolder1_GridView1\"}).find_all(\"td\")[counter].get_text())\n",
    "        counter=counter+1\n",
    "    row.append(current_row)"
   ]
  },
  {
   "cell_type": "code",
   "execution_count": 67,
   "id": "c060b836",
   "metadata": {},
   "outputs": [
    {
     "name": "stdout",
     "output_type": "stream",
     "text": [
      "[['100103', 'CHEMISTRY', '49', '28', '77', 'B  ', '4.00'], ['100104', 'PROGRAMMING FOR PROBLEM SOLVING', '67', '28', '95', 'A+ ', '3.00'], ['100105', 'WORKSHOP MANUFACTURING PRACTICES', '55', '29', '84', 'A  ', '1.00'], ['100106', 'ENGLISH', '56', '29', '85', 'A  ', '2.00'], ['105102', 'MATHEMATICS - I (CALCULUS AND LINEAR ALGEBRA)', '34', '18', '52', 'D  ', '4.00']]\n"
     ]
    }
   ],
   "source": [
    "print(row)"
   ]
  },
  {
   "cell_type": "code",
   "execution_count": 68,
   "id": "ded59b6f",
   "metadata": {},
   "outputs": [],
   "source": [
    "df = pd.DataFrame(row, columns=header)"
   ]
  },
  {
   "cell_type": "code",
   "execution_count": 69,
   "id": "583816a5",
   "metadata": {},
   "outputs": [
    {
     "data": {
      "text/html": [
       "<div>\n",
       "<style scoped>\n",
       "    .dataframe tbody tr th:only-of-type {\n",
       "        vertical-align: middle;\n",
       "    }\n",
       "\n",
       "    .dataframe tbody tr th {\n",
       "        vertical-align: top;\n",
       "    }\n",
       "\n",
       "    .dataframe thead th {\n",
       "        text-align: right;\n",
       "    }\n",
       "</style>\n",
       "<table border=\"1\" class=\"dataframe\">\n",
       "  <thead>\n",
       "    <tr style=\"text-align: right;\">\n",
       "      <th></th>\n",
       "      <th>Subject Code</th>\n",
       "      <th>Subject Name</th>\n",
       "      <th>ESE</th>\n",
       "      <th>IA</th>\n",
       "      <th>Total</th>\n",
       "      <th>Grade</th>\n",
       "      <th>Credit</th>\n",
       "    </tr>\n",
       "  </thead>\n",
       "  <tbody>\n",
       "    <tr>\n",
       "      <th>0</th>\n",
       "      <td>100103</td>\n",
       "      <td>CHEMISTRY</td>\n",
       "      <td>49</td>\n",
       "      <td>28</td>\n",
       "      <td>77</td>\n",
       "      <td>B</td>\n",
       "      <td>4.00</td>\n",
       "    </tr>\n",
       "    <tr>\n",
       "      <th>1</th>\n",
       "      <td>100104</td>\n",
       "      <td>PROGRAMMING FOR PROBLEM SOLVING</td>\n",
       "      <td>67</td>\n",
       "      <td>28</td>\n",
       "      <td>95</td>\n",
       "      <td>A+</td>\n",
       "      <td>3.00</td>\n",
       "    </tr>\n",
       "    <tr>\n",
       "      <th>2</th>\n",
       "      <td>100105</td>\n",
       "      <td>WORKSHOP MANUFACTURING PRACTICES</td>\n",
       "      <td>55</td>\n",
       "      <td>29</td>\n",
       "      <td>84</td>\n",
       "      <td>A</td>\n",
       "      <td>1.00</td>\n",
       "    </tr>\n",
       "    <tr>\n",
       "      <th>3</th>\n",
       "      <td>100106</td>\n",
       "      <td>ENGLISH</td>\n",
       "      <td>56</td>\n",
       "      <td>29</td>\n",
       "      <td>85</td>\n",
       "      <td>A</td>\n",
       "      <td>2.00</td>\n",
       "    </tr>\n",
       "    <tr>\n",
       "      <th>4</th>\n",
       "      <td>105102</td>\n",
       "      <td>MATHEMATICS - I (CALCULUS AND LINEAR ALGEBRA)</td>\n",
       "      <td>34</td>\n",
       "      <td>18</td>\n",
       "      <td>52</td>\n",
       "      <td>D</td>\n",
       "      <td>4.00</td>\n",
       "    </tr>\n",
       "  </tbody>\n",
       "</table>\n",
       "</div>"
      ],
      "text/plain": [
       "  Subject Code                                   Subject Name ESE  IA Total  \\\n",
       "0       100103                                      CHEMISTRY  49  28    77   \n",
       "1       100104                PROGRAMMING FOR PROBLEM SOLVING  67  28    95   \n",
       "2       100105               WORKSHOP MANUFACTURING PRACTICES  55  29    84   \n",
       "3       100106                                        ENGLISH  56  29    85   \n",
       "4       105102  MATHEMATICS - I (CALCULUS AND LINEAR ALGEBRA)  34  18    52   \n",
       "\n",
       "  Grade Credit  \n",
       "0   B     4.00  \n",
       "1   A+    3.00  \n",
       "2   A     1.00  \n",
       "3   A     2.00  \n",
       "4   D     4.00  "
      ]
     },
     "execution_count": 69,
     "metadata": {},
     "output_type": "execute_result"
    }
   ],
   "source": [
    "df"
   ]
  },
  {
   "cell_type": "code",
   "execution_count": null,
   "id": "7f6ae40c",
   "metadata": {},
   "outputs": [],
   "source": []
  }
 ],
 "metadata": {
  "kernelspec": {
   "display_name": "Python 3 (ipykernel)",
   "language": "python",
   "name": "python3"
  },
  "language_info": {
   "codemirror_mode": {
    "name": "ipython",
    "version": 3
   },
   "file_extension": ".py",
   "mimetype": "text/x-python",
   "name": "python",
   "nbconvert_exporter": "python",
   "pygments_lexer": "ipython3",
   "version": "3.9.13"
  }
 },
 "nbformat": 4,
 "nbformat_minor": 5
}
