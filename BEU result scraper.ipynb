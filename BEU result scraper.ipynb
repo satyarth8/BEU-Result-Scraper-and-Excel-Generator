{
 "cells": [
  {
   "cell_type": "code",
   "execution_count": 33,
   "id": "8e328e60",
   "metadata": {},
   "outputs": [],
   "source": [
    "url=\"http://results.beup.ac.in/ResultsBTech2ndSem2023_B2022Pub.aspx?Sem=II&RegNo=22155154010\""
   ]
  },
  {
   "cell_type": "code",
   "execution_count": 34,
   "id": "b7a7797e",
   "metadata": {},
   "outputs": [],
   "source": [
    "import requests"
   ]
  },
  {
   "cell_type": "code",
   "execution_count": 35,
   "id": "0232f996",
   "metadata": {},
   "outputs": [],
   "source": [
    "data=requests.get(url)"
   ]
  },
  {
   "cell_type": "code",
   "execution_count": 36,
   "id": "e90be538",
   "metadata": {},
   "outputs": [],
   "source": [
    "while(data.status_code!=200):\n",
    "    data=requests.get(url)"
   ]
  },
  {
   "cell_type": "code",
   "execution_count": 37,
   "id": "7b3dc8af",
   "metadata": {},
   "outputs": [
    {
     "data": {
      "text/plain": [
       "True"
      ]
     },
     "execution_count": 37,
     "metadata": {},
     "output_type": "execute_result"
    }
   ],
   "source": [
    "data.ok"
   ]
  },
  {
   "cell_type": "code",
   "execution_count": 38,
   "id": "68d6d39a",
   "metadata": {},
   "outputs": [
    {
     "data": {
      "text/plain": [
       "'\\r\\n\\r\\n<!DOCTYPE html PUBLIC \"-//W3C//DTD XHTML 1.0 Transitional//EN\" \"http://www.w3.org/TR/xhtml1/DTD/xhtml1-transitional.dtd\">\\r\\n\\r\\n<html xmlns=\"http://www.w3.org/1999/xhtml\">\\r\\n<head><title>\\r\\n\\t.:BEU, Patna - Results official website:.\\r\\n</title>\\r\\n    \\r\\n   <script type=\"text/javascript\" src=\"http://code.jquery.com/jquery-1.8.2.js\"></script>\\r\\n    <script src=\"jQuery.print.js\" type=\"text/javascript\"></script>\\r\\n<script type=\"text/javascript\">\\r\\n    $(function () {\\r\\n        $(\"#hrefPrint\").click(function () {\\r\\n            // Print the DIV.\\r\\n            $(\"#printarea\").print();\\r\\n            return (false);\\r\\n        });\\r\\n    });\\r\\n</script>\\r\\n    <style type=\"text/css\">\\r\\n        .style1\\r\\n        {\\r\\n            width: 100%;\\r\\n            border-left: 1px solid #A0A0A0;\\r\\n            border-right-style: solid;\\r\\n            border-right-width: 1px;\\r\\n            border-top: 1px solid #A0A0A0;\\r\\n            border-bottom-style: solid;\\r\\n            border-bottom-width: 1px;\\r\\n            text-align:left;\\r\\n        }\\r\\n        \\r\\n        .style5\\r\\n        {            text-align: left;\\r\\n        }\\r\\n        .style6\\r\\n        {\\r\\n            width: 100%;\\r\\n            border-left: 1px solid #A0A0A0;\\r\\n            border-right-style: solid;\\r\\n            border-right-width: 1px;\\r\\n            border-top: 1px solid #A0A0A0;\\r\\n            border-bottom-style: solid;\\r\\n            border-bottom-width: 1px;\\r\\n        }\\r\\n        .style7\\r\\n        {\\r\\n            width: 100%;\\r\\n        }\\r\\n        .style9\\r\\n        {\\r\\n            font-size: xx-large;\\r\\n        }\\r\\n        .style11\\r\\n        {\\r\\n            width: 472px;\\r\\n            text-align: left;\\r\\n        }\\r\\n    </style>\\r\\n<link href=\"resstyles/layout.css\" rel=\"stylesheet\" type=\"text/css\" />  \\r\\n    <!-- Homepage Specific Elements -->\\r\\n    \\r\\n    <link href=\"resstyles/menu.css\" rel=\"stylesheet\" type=\"text/css\" /><link href=\"resstyles/tables.css\" rel=\"stylesheet\" type=\"text/css\" />\\r\\n    <script language=\"javascript\" type=\"text/javascript\">\\r\\n        function MakeActive() {\\r\\n        \\r\\n            document.getElementById(\\'home_about\\').className = \\'active\\';\\r\\n\\r\\n        }\\r\\n\\r\\n    </script>\\r\\n    <!--AKU.in Google Analytics Code-->\\r\\n   <script type=\"text/javascript\">\\r\\n       (function (i, s, o, g, r, a, m) {\\r\\n           i[\\'GoogleAnalyticsObject\\'] = r; i[r] = i[r] || function () {\\r\\n               (i[r].q = i[r].q || []).push(arguments)\\r\\n           }, i[r].l = 1 * new Date(); a = s.createElement(o),\\r\\n  m = s.getElementsByTagName(o)[0]; a.async = 1; a.src = g; m.parentNode.insertBefore(a, m)\\r\\n       })(window, document, \\'script\\', \\'https://www.google-analytics.com/analytics.js\\', \\'ga\\');\\r\\n\\r\\n       ga(\\'create\\', \\'UA-77420316-1\\', \\'auto\\');\\r\\n       ga(\\'send\\', \\'pageview\\');\\r\\n\\r\\n</script>\\r\\n<!-- End Homepage Specific Elements -->\\r\\n    <style type=\"text/css\">\\r\\n        .searchalign\\r\\n        {\\r\\n            margin-top:2px;\\r\\n            position:relative;\\r\\n        }\\r\\n         @font-face {\\r\\n    font-family: KrutiDev010;\\r\\n    src: url(\"resstyles/KrutiDev010.ttf\") /* TTF file for CSS3 browsers */\\r\\n}\\r\\n    </style>\\r\\n</head>\\r\\n<body id=\"top\">\\r\\n    \\r\\n<form method=\"post\" action=\"./ResultsBTech2ndSem2023_B2022Pub.aspx?Sem=II&amp;RegNo=22155154010\" id=\"form1\">\\r\\n<input type=\"hidden\" name=\"__VIEWSTATE\" id=\"__VIEWSTATE\" value=\"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\" />\\r\\n\\r\\n\\r\\n<script src=\"/ScriptResource.axd?d=t0kuXbVyc23KMW4IGznJReFYbiJbHDIRLA2ky38zj9CCydHxYliWpAGuFbhxIFv0pWFQSVHbZaZmEd87Z-yOte78fo2cl0zroIAWN6kwSW1E9z6H5b4g-7EgF1DXwPiYS81hgsZ_TxpW8o_ZSQsrSvarMHIa5ktTG-RRiZajSGjkhoDavFVZ74ulnG1undE60&amp;t=722fe453\" type=\"text/javascript\"></script>\\r\\n<script type=\"text/javascript\">\\r\\n//<![CDATA[\\r\\nif (typeof(Sys) === \\'undefined\\') throw new Error(\\'ASP.NET Ajax client-side framework failed to load.\\');\\r\\n//]]>\\r\\n</script>\\r\\n\\r\\n<input type=\"hidden\" name=\"__VIEWSTATEGENERATOR\" id=\"__VIEWSTATEGENERATOR\" value=\"59A5F900\" />\\r\\n<input type=\"hidden\" name=\"__VIEWSTATEENCRYPTED\" id=\"__VIEWSTATEENCRYPTED\" value=\"\" />\\r\\n<input type=\"hidden\" name=\"__EVENTVALIDATION\" id=\"__EVENTVALIDATION\" value=\"1X8s1NFkMbp+ACnOjdm+BDEMLdJrLfLJ4f6Gjq5hT8fID1igkz1dsWHeVaIBi2rOo/JTT5/liRtzpq3rtV/duReB/gb2py7s857XXSjCNGYosNeShPgZ/VCUy3wq+GSzILT1nFnOEeKkctrfez/ksE83AQ4Ofy1YTbtX+lAezNo=\" />\\r\\n\\r\\n<div class=\"wrapper row1\">\\r\\n  <div id=\"header\" class=\"clear\">\\r\\n    \\r\\n    <div class=\"fl_left\" style=\"margin-top:5px;\">\\r\\n      <h1><a href=\"Default.aspx\">Bihar Engineering University, Patna</a></h1>\\r\\n    </div>\\r\\n    <div class=\"fl_right\" style=\"margin-top:10px; margin-right:10px\">\\r\\n      \\r\\n      \\r\\n        \\r\\n     \\r\\n    </div>\\r\\n  </div>\\r\\n</div>\\r\\n<!-- ####################################################################################################### -->\\r\\n\\r\\n<div class=\"wrapper\">\\r\\n \\r\\n</div>\\r\\n<!-- ####################################################################################################### -->\\r\\n<div class=\"wrapper\">\\r\\n  \\r\\n</div>\\r\\n<!-- ####################################################################################################### -->\\r\\n<div class=\"wrapper row3\">\\r\\n    \\r\\n    <div class=\"rnd\">\\r\\n     <div id=\"printarea\" style=\"font-family:Tahoma; font-size:14px\">\\r\\n    <div id=\"container\" class=\"clear\" style=\"background-image: url(\\'images/logowatermark.png\\'); background-repeat: no-repeat; background-position: center center\">\\r\\n        \\r\\n        <input type=\"hidden\" name=\"ctl00$ContentPlaceHolder1$HiddenField_Roll\" id=\"ContentPlaceHolder1_HiddenField_Roll\" value=\"22155154010\" />\\r\\n        <input type=\"hidden\" name=\"ctl00$ContentPlaceHolder1$HiddenField_Sem\" id=\"ContentPlaceHolder1_HiddenField_Sem\" value=\"II\" />\\r\\n        \\r\\n        \\r\\n        <table class=\"style7\">\\r\\n            <tr>\\r\\n                <td style=\"text-align: right\">\\r\\n                    <a id=\"ContentPlaceHolder1_HyperLink_Back\" href=\"BTech2ndSem2023_B2022Results.aspx\">View another Result</a>\\r\\n                </td>\\r\\n            </tr>\\r\\n           <tr>\\r\\n                <td><br />\\r\\n                    <p style=\"text-transform:uppercase;text-align:center; font-weight:bold;\" class=\"style9\">Bihar Engineering University, Patna</p></td>\\r\\n            </tr>\\r\\n            <tr>\\r\\n                <td style=\"text-align:center\">\\r\\n                     <table id=\"ContentPlaceHolder1_DataList4\" cellspacing=\"0\" width=\"910\">\\r\\n\\t<tr>\\r\\n\\t\\t<td>                                         \\r\\n                            \\r\\n                            <span id=\"ContentPlaceHolder1_DataList4_Exam_Name_0\" style=\"font-weight: 700; color: #FF3300;text-align:center; font-size:medium;\"><font color=\"Red\">B.Tech. 2<sup>nd</sup> Semester Examination, 2023</font></span>\\r\\n            </td>\\r\\n\\t</tr>\\r\\n</table>\\r\\n        </td>\\r\\n            </tr>\\r\\n        </table>\\r\\n        <table id=\"ContentPlaceHolder1_DataList2\" width=\"100%\">\\r\\n\\t<tr>\\r\\n\\t\\t<td>\\r\\n                            \\r\\n                            <table class=\"style1\" border=\"1\">\\r\\n                                <tr>\\r\\n                                    <td class=\"style11\">\\r\\n                                        <strong>Semester : </strong><span id=\"ContentPlaceHolder1_DataList2_Exam_Name_0\">II</span></td>\\r\\n                                    <td class=\"style5\">\\r\\n                                        <strong>Examination(Month/Year) : </strong>Sept-Oct/2023</td>\\r\\n                                </tr>\\r\\n                            </table>\\r\\n                        </td>\\r\\n\\t</tr>\\r\\n</table>\\r\\n        <table id=\"ContentPlaceHolder1_DataList1\" width=\"100%\">\\r\\n\\t<tr>\\r\\n\\t\\t<td>\\r\\n                <table class=\"style1\" border=\"1\">\\r\\n                    <tr>\\r\\n                    <td class=\"style5\">\\r\\n                            <b>Registration No:</b></td>\\r\\n                        <td class=\"style5\" colspan=\"3\">\\r\\n                            <span id=\"ContentPlaceHolder1_DataList1_RegistrationNoLabel_0\" style=\"font-weight: 700\">22155154010 </span>\\r\\n                        </td>\\r\\n                        \\r\\n                    </tr>\\r\\n                    <tr>\\r\\n                        <td class=\"style5\">\\r\\n                            <b>Student Name:</b></td>\\r\\n                        <td colspan=\"3\" class=\"style5\">\\r\\n                            <span id=\"ContentPlaceHolder1_DataList1_StudentNameLabel_0\" style=\"font-weight: 700\">AVNISH KUMAR</span>\\r\\n                        </td>\\r\\n                    </tr>\\r\\n                    <tr>\\r\\n                        <td class=\"style5\">\\r\\n                            <b>Father Name:</b></td>\\r\\n                        <td class=\"style5\">\\r\\n                            <span id=\"ContentPlaceHolder1_DataList1_FatherNameLabel_0\">SUNIL KUMAR</span>\\r\\n                        </td>\\r\\n                        <td class=\"style5\">\\r\\n                            <strong>MotherName:</strong></td>\\r\\n                        <td class=\"style5\">\\r\\n                            <span id=\"ContentPlaceHolder1_DataList1_MotherNameLabel_0\">PRAMILA DEVI</span>\\r\\n                        </td>\\r\\n                    </tr>\\r\\n                    <tr>\\r\\n                        <td class=\"style5\">\\r\\n                            <b>College Name:</b></td>\\r\\n                        <td colspan=\"3\" class=\"style5\">\\r\\n                            <span id=\"ContentPlaceHolder1_DataList1_CollegeCodeLabel_0\">154</span>\\r\\n                            -<span id=\"ContentPlaceHolder1_DataList1_CollegeNameLabel_0\">GOVERNMENT ENGINEERING COLLEGE, KHAGARIA</span>                                                           \\r\\n                        </td>\\r\\n                    </tr>\\r\\n                    <tr>\\r\\n                        <td class=\"style5\">\\r\\n                            <b>Course Name:</b></td>\\r\\n                        <td colspan=\"3\" class=\"style5\">\\r\\n                            <span id=\"ContentPlaceHolder1_DataList1_CourseCodeLabel_0\">155</span>\\r\\n                            -<span id=\"ContentPlaceHolder1_DataList1_CourseLabel_0\">Computer Science and Engineering (Internet of Things)</span>\\r\\n                        </td>\\r\\n                    </tr>\\r\\n                </table>             \\r\\n               \\r\\n            </td>\\r\\n\\t</tr>\\r\\n</table>\\r\\n        <br />\\r\\n        <div>\\r\\n\\t<table cellspacing=\"0\" rules=\"all\" border=\"1\" id=\"ContentPlaceHolder1_GridView1\" width=\"910\">\\r\\n\\t\\t<caption>\\r\\n\\t\\t\\tTHEORY\\r\\n\\t\\t</caption><tr align=\"center\">\\r\\n\\t\\t\\t<th scope=\"col\">Subject Code</th><th scope=\"col\">Subject Name</th><th scope=\"col\">ESE</th><th scope=\"col\">IA</th><th scope=\"col\">Total</th><th scope=\"col\">Grade</th><th scope=\"col\">Credit</th>\\r\\n\\t\\t</tr><tr align=\"left\">\\r\\n\\t\\t\\t<td align=\"center\">100201</td><td align=\"left\">BASIC ELECTRICAL ENGINEERING</td><td align=\"center\">8</td><td align=\"center\">20</td><td align=\"center\">28</td><td align=\"center\">F  </td><td align=\"center\">4.00</td>\\r\\n\\t\\t</tr><tr align=\"left\">\\r\\n\\t\\t\\t<td align=\"center\">100202</td><td align=\"left\">ENGINEERING GRAPHICS &amp; DESIGN</td><td align=\"center\">25</td><td align=\"center\">20</td><td align=\"center\">45</td><td align=\"center\">P  </td><td align=\"center\">1.00</td>\\r\\n\\t\\t</tr><tr align=\"left\">\\r\\n\\t\\t\\t<td align=\"center\">105201</td><td align=\"left\">PHYSICS (SEMICONDUCTOR PHYSICS)</td><td align=\"center\">2</td><td align=\"center\">17</td><td align=\"center\">19</td><td align=\"center\">F  </td><td align=\"center\">4.00</td>\\r\\n\\t\\t</tr><tr align=\"left\">\\r\\n\\t\\t\\t<td align=\"center\">105202</td><td align=\"left\">MATHEMATICS - II (PROBABILITY AND STATISTICS)</td><td align=\"center\">14</td><td align=\"center\">17</td><td align=\"center\">31</td><td align=\"center\">F  </td><td align=\"center\">4.00</td>\\r\\n\\t\\t</tr>\\r\\n\\t</table>\\r\\n</div>\\r\\n        <div>\\r\\n\\t<table cellspacing=\"0\" rules=\"all\" border=\"1\" id=\"ContentPlaceHolder1_GridView2\" width=\"910\">\\r\\n\\t\\t<caption>\\r\\n\\t\\t\\tPRACTICAL\\r\\n\\t\\t</caption><tr align=\"center\">\\r\\n\\t\\t\\t<th scope=\"col\">Subject Code</th><th scope=\"col\">Subject Name</th><th scope=\"col\">ESE</th><th scope=\"col\">IA</th><th scope=\"col\">Total</th><th scope=\"col\">Grade</th><th scope=\"col\">Credit</th>\\r\\n\\t\\t</tr><tr align=\"left\">\\r\\n\\t\\t\\t<td align=\"center\">100201P</td><td align=\"left\">BASIC ELECTRICAL ENGINEERING</td><td align=\"center\">21</td><td align=\"center\">18</td><td align=\"center\">39</td><td align=\"center\">B </td><td align=\"center\">1.00</td>\\r\\n\\t\\t</tr><tr align=\"left\">\\r\\n\\t\\t\\t<td align=\"center\">100202P</td><td align=\"left\">ENGINEERING GRAPHICS &amp; DESIGN</td><td align=\"center\">20</td><td align=\"center\">17</td><td align=\"center\">37</td><td align=\"center\">B </td><td align=\"center\">2.00</td>\\r\\n\\t\\t</tr><tr align=\"left\">\\r\\n\\t\\t\\t<td align=\"center\">105201P</td><td align=\"left\">PHYSICS (SEMICONDUCTOR PHYSICS)</td><td align=\"center\">27</td><td align=\"center\">19</td><td align=\"center\">46</td><td align=\"center\">A+</td><td align=\"center\">1.50</td>\\r\\n\\t\\t</tr>\\r\\n\\t</table>\\r\\n</div>\\r\\n        <table id=\"ContentPlaceHolder1_DataList5\" cellspacing=\"0\" width=\"910\">\\r\\n\\t<tr>\\r\\n\\t\\t<td>\\r\\n                <table class=\"style6\" border=\"1\">\\r\\n                    <tr>\\r\\n                        <td width=\"50%\" style=\"text-align: right\">                            \\r\\n                            <strong>SGPA : </strong>\\r\\n                            <span id=\"ContentPlaceHolder1_DataList5_GROSSTHEORYTOTALLabel_0\" style=\"font-weight: 700\">2.51</span>\\r\\n                        </td>\\r\\n                    </tr>\\r\\n                </table>\\r\\n            </td>\\r\\n\\t</tr>\\r\\n</table>\\r\\n        <table border=\"1\" style=\"width:100%\">\\r\\n            <tr>\\r\\n                <td width=\"10%\">\\r\\n                    <table border=\"1\">\\r\\n                        <tr>\\r\\n                            <td>\\r\\n                                <b>Semester: \\r\\n                            </b> \\r\\n                            </td>\\r\\n                        </tr>\\r\\n                        <tr>\\r\\n                            <td>\\r\\n                                <b>SGPA: \\r\\n                            </b> \\r\\n                            </td>\\r\\n                        </tr>\\r\\n                        </table>\\r\\n                </td>\\r\\n                <td>\\r\\n                    <div>\\r\\n\\t<table cellspacing=\"0\" rules=\"all\" border=\"1\" id=\"ContentPlaceHolder1_GridView3\" width=\"100%\">\\r\\n\\t\\t<tr align=\"center\">\\r\\n\\t\\t\\t<th scope=\"col\">I</th><th scope=\"col\">II</th><th scope=\"col\">III</th><th scope=\"col\">IV</th><th scope=\"col\">V</th><th scope=\"col\">VI</th><th scope=\"col\">VII</th><th scope=\"col\">VIII</th><th scope=\"col\">Cur. CGPA</th>\\r\\n\\t\\t</tr><tr align=\"center\">\\r\\n\\t\\t\\t<td>4.59</td><td>2.51</td><td>NA</td><td>NA</td><td>NA</td><td>NA</td><td>NA</td><td>NA</td><td>3.63</td>\\r\\n\\t\\t</tr>\\r\\n\\t</table>\\r\\n</div>\\r\\n                </td>\\r\\n            </tr>\\r\\n        </table>\\r\\n        <table id=\"ContentPlaceHolder1_DataList3\" cellspacing=\"0\" width=\"910\">\\r\\n\\t<tr>\\r\\n\\t\\t<td>\\r\\n                <table class=\"style6\" border=\"1\">\\r\\n                    <tr>\\r\\n                        <td width=\"50%\" style=\"text-align: left\">                            \\r\\n                            <strong>Remarks : </strong>\\r\\n                            <span id=\"ContentPlaceHolder1_DataList3_remarkLabel_0\" style=\"font-weight: 700\"><font color=\"Red\">FAIL:100201,105201,105202</font></span>\\r\\n                        </td>\\r\\n                    </tr>\\r\\n                </table>\\r\\n            </td>\\r\\n\\t</tr>\\r\\n</table>\\r\\n        <h4 style=\"text-align:left;font-weight:bold\">NOTE:</h4>\\r\\n                <ul id=\"ContentPlaceHolder1_BulletedList1\" style=\"text-align: left\">\\r\\n\\t<li>ESE : End Semester Exam  </li><li>IA : Internal Assessment</li><li>SGPA : Semester Grade Point Average</li><li>CGPA : Cumulative Grade Point Average  </li><li>AB : Absent</li><li>NA : Not Applicable</li><li>N/A : Not Available</li><li>* : Passed Under Regulation(UR)</li><li>CA : Cancellation of Assessment</li><li>UMC : UnFair Mean Case</li><li>WEB COPY : Not valid for official purpose.</li><li>University does not own for the errors or omissions, if any, in the statement.</li>\\r\\n</ul>\\r\\n    </div>\\r\\n    </div>\\r\\n    <table width=\"100%\"><tr style=\"text-align:center\">\\r\\n            <td><a href=\"#\" id=\"hrefPrint\"><img src=\"images/printbutton.png\" alt=\"\"/></a>\\r\\n                \\r\\n            </td>\\r\\n        </tr>\\r\\n    </table>\\r\\n    </div>\\r\\n\\r\\n  \\r\\n</div>\\r\\n<!-- ####################################################################################################### -->\\r\\n<div class=\"wrapper row4\">\\r\\n  \\r\\n</div>\\r\\n<!-- ####################################################################################################### -->\\r\\n<div class=\"wrapper\">\\r\\n  <div id=\"copyright\" class=\"clear\">\\r\\n    <p class=\"fl_left\">Copyright &copy; 2023 onwards - All rights reserved - <a href=\"#\">Bihar Engineering University, Patna</a></p>\\r\\n   \\r\\n  </div>\\r\\n</div>\\r\\n</form>\\r\\n</body>\\r\\n</html>\\r\\n'"
      ]
     },
     "execution_count": 38,
     "metadata": {},
     "output_type": "execute_result"
    }
   ],
   "source": [
    "data.text\n"
   ]
  },
  {
   "cell_type": "code",
   "execution_count": 39,
   "id": "a48d0fa2",
   "metadata": {},
   "outputs": [],
   "source": [
    "from bs4 import BeautifulSoup"
   ]
  },
  {
   "cell_type": "code",
   "execution_count": 40,
   "id": "a5fd1315",
   "metadata": {},
   "outputs": [],
   "source": [
    "soup = BeautifulSoup(data.text)"
   ]
  },
  {
   "cell_type": "code",
   "execution_count": 41,
   "id": "846b1240",
   "metadata": {},
   "outputs": [],
   "source": [
    "name_element = soup.find('span', {'id': 'ContentPlaceHolder1_DataList1_StudentNameLabel_0'})\n",
    "sgpa_element = soup.find('span', {'id': 'ContentPlaceHolder1_DataList5_GROSSTHEORYTOTALLabel_0'})"
   ]
  },
  {
   "cell_type": "code",
   "execution_count": 42,
   "id": "5e65407f",
   "metadata": {},
   "outputs": [],
   "source": [
    "name = name_element.text.strip() if name_element else \"N/A\"\n",
    "sgpa_text=sgpa_element.text"
   ]
  },
  {
   "cell_type": "code",
   "execution_count": 43,
   "id": "ef72c88d",
   "metadata": {},
   "outputs": [
    {
     "name": "stdout",
     "output_type": "stream",
     "text": [
      "<span id=\"ContentPlaceHolder1_DataList5_GROSSTHEORYTOTALLabel_0\" style=\"font-weight: 700\">2.51</span>\n"
     ]
    }
   ],
   "source": [
    "print(sgpa_element)"
   ]
  },
  {
   "cell_type": "code",
   "execution_count": 44,
   "id": "d169f73b",
   "metadata": {},
   "outputs": [],
   "source": [
    "sgpa = float(sgpa_text) if sgpa_text != \"N/A\" else \"N/A\""
   ]
  },
  {
   "cell_type": "code",
   "execution_count": 45,
   "id": "1a267d9b",
   "metadata": {},
   "outputs": [
    {
     "name": "stdout",
     "output_type": "stream",
     "text": [
      "AVNISH KUMAR 2.51\n"
     ]
    }
   ],
   "source": [
    "print(name,sgpa_text)"
   ]
  },
  {
   "cell_type": "code",
   "execution_count": 46,
   "id": "9d35e5d2",
   "metadata": {
    "scrolled": true
   },
   "outputs": [
    {
     "data": {
      "text/plain": [
       "[<th scope=\"col\">Subject Code</th>,\n",
       " <th scope=\"col\">Subject Name</th>,\n",
       " <th scope=\"col\">ESE</th>,\n",
       " <th scope=\"col\">IA</th>,\n",
       " <th scope=\"col\">Total</th>,\n",
       " <th scope=\"col\">Grade</th>,\n",
       " <th scope=\"col\">Credit</th>]"
      ]
     },
     "execution_count": 46,
     "metadata": {},
     "output_type": "execute_result"
    }
   ],
   "source": [
    "soup.find(\"table\",attrs={\"id\":\"ContentPlaceHolder1_GridView1\"}).find_all(\"th\")"
   ]
  },
  {
   "cell_type": "code",
   "execution_count": 47,
   "id": "ec5ae18f",
   "metadata": {},
   "outputs": [
    {
     "name": "stdout",
     "output_type": "stream",
     "text": [
      "3\n"
     ]
    }
   ],
   "source": [
    "remark_element=soup.find('span', {'id': 'ContentPlaceHolder1_DataList3_remarkLabel_0'})\n",
    "default=sum(c == ':' for c in remark_element.text)\n",
    "more_fails=sum(c == ',' for c in remark_element.text)\n",
    "print(default+more_fails)"
   ]
  },
  {
   "cell_type": "code",
   "execution_count": 221,
   "id": "5187938f",
   "metadata": {},
   "outputs": [
    {
     "data": {
      "text/plain": [
       "[<td align=\"center\">100201</td>,\n",
       " <td align=\"left\">BASIC ELECTRICAL ENGINEERING</td>,\n",
       " <td align=\"center\">25</td>,\n",
       " <td align=\"center\">21</td>,\n",
       " <td align=\"center\">46</td>,\n",
       " <td align=\"center\">P  </td>,\n",
       " <td align=\"center\">4.00</td>,\n",
       " <td align=\"center\">100202</td>,\n",
       " <td align=\"left\">ENGINEERING GRAPHICS &amp; DESIGN</td>,\n",
       " <td align=\"center\">17</td>,\n",
       " <td align=\"center\">20</td>,\n",
       " <td align=\"center\">37</td>,\n",
       " <td align=\"center\">F  </td>,\n",
       " <td align=\"center\">1.00</td>,\n",
       " <td align=\"center\">105201</td>,\n",
       " <td align=\"left\">PHYSICS (SEMICONDUCTOR PHYSICS)</td>,\n",
       " <td align=\"center\">36</td>,\n",
       " <td align=\"center\">22</td>,\n",
       " <td align=\"center\">58</td>,\n",
       " <td align=\"center\">D  </td>,\n",
       " <td align=\"center\">4.00</td>,\n",
       " <td align=\"center\">105202</td>,\n",
       " <td align=\"left\">MATHEMATICS - II (PROBABILITY AND STATISTICS)</td>,\n",
       " <td align=\"center\">26</td>,\n",
       " <td align=\"center\">26</td>,\n",
       " <td align=\"center\">52</td>,\n",
       " <td align=\"center\">D  </td>,\n",
       " <td align=\"center\">4.00</td>]"
      ]
     },
     "execution_count": 221,
     "metadata": {},
     "output_type": "execute_result"
    }
   ],
   "source": [
    "soup.find(\"table\",attrs={\"id\":\"ContentPlaceHolder1_GridView1\"}).find_all(\"td\")"
   ]
  },
  {
   "cell_type": "code",
   "execution_count": 222,
   "id": "09f404db",
   "metadata": {},
   "outputs": [],
   "source": [
    "#header table headers "
   ]
  },
  {
   "cell_type": "code",
   "execution_count": 223,
   "id": "fe35d465",
   "metadata": {},
   "outputs": [
    {
     "name": "stdout",
     "output_type": "stream",
     "text": [
      "[<th scope=\"col\">Subject Code</th>, <th scope=\"col\">Subject Name</th>, <th scope=\"col\">ESE</th>, <th scope=\"col\">IA</th>, <th scope=\"col\">Total</th>, <th scope=\"col\">Grade</th>, <th scope=\"col\">Credit</th>]\n"
     ]
    }
   ],
   "source": [
    "table  = soup.find(\"table\",attrs={\"id\":\"ContentPlaceHolder1_GridView1\"}).find_all(\"th\")\n",
    "print(table)"
   ]
  },
  {
   "cell_type": "code",
   "execution_count": 224,
   "id": "17196271",
   "metadata": {},
   "outputs": [
    {
     "data": {
      "text/plain": [
       "'Subject Code'"
      ]
     },
     "execution_count": 224,
     "metadata": {},
     "output_type": "execute_result"
    }
   ],
   "source": [
    "table[0].get_text()"
   ]
  },
  {
   "cell_type": "code",
   "execution_count": 225,
   "id": "980dfe8c",
   "metadata": {
    "scrolled": true
   },
   "outputs": [
    {
     "name": "stdout",
     "output_type": "stream",
     "text": [
      "['Subject Code', 'Subject Name', 'ESE', 'IA', 'Total', 'Grade', 'Credit']\n"
     ]
    }
   ],
   "source": [
    "header = []\n",
    "for i in range(0, len(table)):\n",
    "    header.append(table[i].get_text())\n",
    "print(header)\n"
   ]
  },
  {
   "cell_type": "code",
   "execution_count": 226,
   "id": "8e180ce1",
   "metadata": {},
   "outputs": [],
   "source": [
    "import pandas as pd\n",
    "df=pd.DataFrame(columns=header)"
   ]
  },
  {
   "cell_type": "code",
   "execution_count": 227,
   "id": "bc51649c",
   "metadata": {},
   "outputs": [
    {
     "data": {
      "text/html": [
       "<div>\n",
       "<style scoped>\n",
       "    .dataframe tbody tr th:only-of-type {\n",
       "        vertical-align: middle;\n",
       "    }\n",
       "\n",
       "    .dataframe tbody tr th {\n",
       "        vertical-align: top;\n",
       "    }\n",
       "\n",
       "    .dataframe thead th {\n",
       "        text-align: right;\n",
       "    }\n",
       "</style>\n",
       "<table border=\"1\" class=\"dataframe\">\n",
       "  <thead>\n",
       "    <tr style=\"text-align: right;\">\n",
       "      <th></th>\n",
       "      <th>Subject Code</th>\n",
       "      <th>Subject Name</th>\n",
       "      <th>ESE</th>\n",
       "      <th>IA</th>\n",
       "      <th>Total</th>\n",
       "      <th>Grade</th>\n",
       "      <th>Credit</th>\n",
       "    </tr>\n",
       "  </thead>\n",
       "  <tbody>\n",
       "  </tbody>\n",
       "</table>\n",
       "</div>"
      ],
      "text/plain": [
       "Empty DataFrame\n",
       "Columns: [Subject Code, Subject Name, ESE, IA, Total, Grade, Credit]\n",
       "Index: []"
      ]
     },
     "execution_count": 227,
     "metadata": {},
     "output_type": "execute_result"
    }
   ],
   "source": [
    "df"
   ]
  },
  {
   "cell_type": "code",
   "execution_count": 228,
   "id": "654daf0a",
   "metadata": {},
   "outputs": [
    {
     "data": {
      "text/plain": [
       "'100201'"
      ]
     },
     "execution_count": 228,
     "metadata": {},
     "output_type": "execute_result"
    }
   ],
   "source": [
    "soup.find(\"table\",attrs={\"id\":\"ContentPlaceHolder1_GridView1\"}).find_all(\"td\")[0].get_text()"
   ]
  },
  {
   "cell_type": "code",
   "execution_count": 229,
   "id": "65652237",
   "metadata": {},
   "outputs": [],
   "source": [
    "counter=0;\n",
    "row =[]\n",
    "no_subject=4\n",
    "for i in range(0,no_subject):\n",
    "    current_row=[]\n",
    "    for j in range(0, len(header)):\n",
    "        current_row.append(soup.find(\"table\",attrs={\"id\":\"ContentPlaceHolder1_GridView1\"}).find_all(\"td\")[counter].get_text())\n",
    "        counter=counter+1\n",
    "    row.append(current_row)"
   ]
  },
  {
   "cell_type": "code",
   "execution_count": 230,
   "id": "c060b836",
   "metadata": {},
   "outputs": [
    {
     "name": "stdout",
     "output_type": "stream",
     "text": [
      "[['100201', 'BASIC ELECTRICAL ENGINEERING', '25', '21', '46', 'P  ', '4.00'], ['100202', 'ENGINEERING GRAPHICS & DESIGN', '17', '20', '37', 'F  ', '1.00'], ['105201', 'PHYSICS (SEMICONDUCTOR PHYSICS)', '36', '22', '58', 'D  ', '4.00'], ['105202', 'MATHEMATICS - II (PROBABILITY AND STATISTICS)', '26', '26', '52', 'D  ', '4.00']]\n"
     ]
    }
   ],
   "source": [
    "print(row)"
   ]
  },
  {
   "cell_type": "code",
   "execution_count": 231,
   "id": "ded59b6f",
   "metadata": {},
   "outputs": [],
   "source": [
    "df = pd.DataFrame(row, columns=header)"
   ]
  },
  {
   "cell_type": "code",
   "execution_count": 232,
   "id": "583816a5",
   "metadata": {},
   "outputs": [
    {
     "data": {
      "text/html": [
       "<div>\n",
       "<style scoped>\n",
       "    .dataframe tbody tr th:only-of-type {\n",
       "        vertical-align: middle;\n",
       "    }\n",
       "\n",
       "    .dataframe tbody tr th {\n",
       "        vertical-align: top;\n",
       "    }\n",
       "\n",
       "    .dataframe thead th {\n",
       "        text-align: right;\n",
       "    }\n",
       "</style>\n",
       "<table border=\"1\" class=\"dataframe\">\n",
       "  <thead>\n",
       "    <tr style=\"text-align: right;\">\n",
       "      <th></th>\n",
       "      <th>Subject Code</th>\n",
       "      <th>Subject Name</th>\n",
       "      <th>ESE</th>\n",
       "      <th>IA</th>\n",
       "      <th>Total</th>\n",
       "      <th>Grade</th>\n",
       "      <th>Credit</th>\n",
       "    </tr>\n",
       "  </thead>\n",
       "  <tbody>\n",
       "    <tr>\n",
       "      <th>0</th>\n",
       "      <td>100201</td>\n",
       "      <td>BASIC ELECTRICAL ENGINEERING</td>\n",
       "      <td>25</td>\n",
       "      <td>21</td>\n",
       "      <td>46</td>\n",
       "      <td>P</td>\n",
       "      <td>4.00</td>\n",
       "    </tr>\n",
       "    <tr>\n",
       "      <th>1</th>\n",
       "      <td>100202</td>\n",
       "      <td>ENGINEERING GRAPHICS &amp; DESIGN</td>\n",
       "      <td>17</td>\n",
       "      <td>20</td>\n",
       "      <td>37</td>\n",
       "      <td>F</td>\n",
       "      <td>1.00</td>\n",
       "    </tr>\n",
       "    <tr>\n",
       "      <th>2</th>\n",
       "      <td>105201</td>\n",
       "      <td>PHYSICS (SEMICONDUCTOR PHYSICS)</td>\n",
       "      <td>36</td>\n",
       "      <td>22</td>\n",
       "      <td>58</td>\n",
       "      <td>D</td>\n",
       "      <td>4.00</td>\n",
       "    </tr>\n",
       "    <tr>\n",
       "      <th>3</th>\n",
       "      <td>105202</td>\n",
       "      <td>MATHEMATICS - II (PROBABILITY AND STATISTICS)</td>\n",
       "      <td>26</td>\n",
       "      <td>26</td>\n",
       "      <td>52</td>\n",
       "      <td>D</td>\n",
       "      <td>4.00</td>\n",
       "    </tr>\n",
       "  </tbody>\n",
       "</table>\n",
       "</div>"
      ],
      "text/plain": [
       "  Subject Code                                   Subject Name ESE  IA Total  \\\n",
       "0       100201                   BASIC ELECTRICAL ENGINEERING  25  21    46   \n",
       "1       100202                  ENGINEERING GRAPHICS & DESIGN  17  20    37   \n",
       "2       105201                PHYSICS (SEMICONDUCTOR PHYSICS)  36  22    58   \n",
       "3       105202  MATHEMATICS - II (PROBABILITY AND STATISTICS)  26  26    52   \n",
       "\n",
       "  Grade Credit  \n",
       "0   P     4.00  \n",
       "1   F     1.00  \n",
       "2   D     4.00  \n",
       "3   D     4.00  "
      ]
     },
     "execution_count": 232,
     "metadata": {},
     "output_type": "execute_result"
    }
   ],
   "source": [
    "df"
   ]
  },
  {
   "cell_type": "code",
   "execution_count": 352,
   "id": "82a17b1a",
   "metadata": {},
   "outputs": [
    {
     "name": "stdout",
     "output_type": "stream",
     "text": [
      "Number of 'F' grades: 1\n"
     ]
    }
   ],
   "source": [
    "# Remove non-alphabetic characters from the 'Grade' column\n",
    "# Remove non-alphabetic characters from the 'Grade' column\n",
    "df['Grade'] = df['Grade'].str.replace(r'[^a-zA-Z]', '', regex=True)\n",
    "\n",
    "# Count the number of 'F' grades in the 'Grade' column\n",
    "count_F = sum(df['Grade'] == 'F')\n",
    "print(\"Number of 'F' grades:\", count_F)\n",
    "\n"
   ]
  },
  {
   "cell_type": "code",
   "execution_count": null,
   "id": "4030cd47",
   "metadata": {},
   "outputs": [],
   "source": []
  }
 ],
 "metadata": {
  "kernelspec": {
   "display_name": "Python 3 (ipykernel)",
   "language": "python",
   "name": "python3"
  },
  "language_info": {
   "codemirror_mode": {
    "name": "ipython",
    "version": 3
   },
   "file_extension": ".py",
   "mimetype": "text/x-python",
   "name": "python",
   "nbconvert_exporter": "python",
   "pygments_lexer": "ipython3",
   "version": "3.9.13"
  }
 },
 "nbformat": 4,
 "nbformat_minor": 5
}
