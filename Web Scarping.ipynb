{
 "cells": [
  {
   "cell_type": "code",
   "execution_count": 1,
   "id": "a5a2106c",
   "metadata": {},
   "outputs": [],
   "source": [
    "url='https://news.ycombinator.com'"
   ]
  },
  {
   "cell_type": "code",
   "execution_count": 2,
   "id": "27bc725a",
   "metadata": {},
   "outputs": [],
   "source": [
    "import requests"
   ]
  },
  {
   "cell_type": "code",
   "execution_count": 3,
   "id": "dd90e622",
   "metadata": {},
   "outputs": [],
   "source": [
    "res= requests.get(url)"
   ]
  },
  {
   "cell_type": "code",
   "execution_count": 4,
   "id": "3f0a9dca",
   "metadata": {},
   "outputs": [
    {
     "data": {
      "text/plain": [
       "True"
      ]
     },
     "execution_count": 4,
     "metadata": {},
     "output_type": "execute_result"
    }
   ],
   "source": [
    "res.ok"
   ]
  },
  {
   "cell_type": "code",
   "execution_count": 5,
   "id": "f45d2452",
   "metadata": {},
   "outputs": [
    {
     "data": {
      "text/plain": [
       "200"
      ]
     },
     "execution_count": 5,
     "metadata": {},
     "output_type": "execute_result"
    }
   ],
   "source": [
    "res.status_code"
   ]
  },
  {
   "cell_type": "code",
   "execution_count": 6,
   "id": "9686e05d",
   "metadata": {},
   "outputs": [
    {
     "data": {
      "text/plain": [
       "'<html lang=\"en\" op=\"news\"><head><meta name=\"referrer\" content=\"origin\"><meta name=\"viewport\" content=\"width=device-width, initial-scale=1.0\"><link rel=\"stylesheet\" type=\"text/css\" href=\"news.css?J16btoAd8hqdkSoIdLSk\">\\n        <link rel=\"icon\" href=\"y18.svg\">\\n                  <link rel=\"alternate\" type=\"application/rss+xml\" title=\"RSS\" href=\"rss\">\\n        <title>Hacker News</title></head><body><center><table id=\"hnmain\" border=\"0\" cellpadding=\"0\" cellspacing=\"0\" width=\"85%\" bgcolor=\"#f6f6ef\">\\n        <tr><td bgcolor=\"#ff6600\"><table border=\"0\" cellpadding=\"0\" cellspacing=\"0\" width=\"100%\" style=\"padding:2px\"><tr><td style=\"width:18px;padding-right:4px\"><a href=\"https://news.ycombinator.com\"><img src=\"y18.svg\" width=\"18\" height=\"18\" style=\"border:1px white solid; display:block\"></a></td>\\n                  <td style=\"line-height:12pt; height:10px;\"><span class=\"pagetop\"><b class=\"hnname\"><a href=\"news\">Hacker News</a></b>\\n                            <a href=\"newest\">new</a> | <a href=\"front\">past</a> | <a href=\"newcomments\">comments</a> | <a href=\"ask\">ask</a> | <a href=\"show\">show</a> | <a href=\"jobs\">jobs</a> | <a href=\"submit\" rel=\"nofollow\">submit</a>            </span></td><td style=\"text-align:right;padding-right:4px;\"><span class=\"pagetop\">\\n                              <a href=\"login?goto=news\">login</a>\\n                          </span></td>\\n              </tr></table></td></tr>\\n<tr id=\"pagespace\" title=\"\" style=\"height:10px\"></tr><tr><td><table border=\"0\" cellpadding=\"0\" cellspacing=\"0\">\\n            <tr class=\\'athing\\' id=\\'39279431\\'>\\n      <td align=\"right\" valign=\"top\" class=\"title\"><span class=\"rank\">1.</span></td>      <td valign=\"top\" class=\"votelinks\"><center><a id=\\'up_39279431\\'href=\\'vote?id=39279431&amp;how=up&amp;goto=news\\'><div class=\\'votearrow\\' title=\\'upvote\\'></div></a></center></td><td class=\"title\"><span class=\"titleline\"><a href=\"https://newsroom.ibm.com/2024-02-06-New-IBM-LinuxONE-4-Express-to-Offer-Cost-Savings-and-Client-Value-through-a-Cyber-Resilient-Hybrid-Cloud-and-AI-Platform\">New IBM LinuxONE 4 Express – Rack-mounted pre-configured Linux mainframe</a><span class=\"sitebit comhead\"> (<a href=\"from?site=ibm.com\"><span class=\"sitestr\">ibm.com</span></a>)</span></span></td></tr><tr><td colspan=\"2\"></td><td class=\"subtext\"><span class=\"subline\">\\n          <span class=\"score\" id=\"score_39279431\">22 points</span> by <a href=\"user?id=rbanffy\" class=\"hnuser\">rbanffy</a> <span class=\"age\" title=\"2024-02-06T19:39:13\"><a href=\"item?id=39279431\">50 minutes ago</a></span> <span id=\"unv_39279431\"></span> | <a href=\"hide?id=39279431&amp;goto=news\">hide</a> | <a href=\"item?id=39279431\">20&nbsp;comments</a>        </span>\\n              </td></tr>\\n      <tr class=\"spacer\" style=\"height:5px\"></tr>\\n                <tr class=\\'athing\\' id=\\'39276687\\'>\\n      <td align=\"right\" valign=\"top\" class=\"title\"><span class=\"rank\">2.</span></td>      <td valign=\"top\" class=\"votelinks\"><center><a id=\\'up_39276687\\'href=\\'vote?id=39276687&amp;how=up&amp;goto=news\\'><div class=\\'votearrow\\' title=\\'upvote\\'></div></a></center></td><td class=\"title\"><span class=\"titleline\"><a href=\"https://github.com/AdguardTeam/AdGuardHome\">Runs on your OpenWrt box: AdGuard Home is network-wide blocking ads and tracking</a><span class=\"sitebit comhead\"> (<a href=\"from?site=github.com/adguardteam\"><span class=\"sitestr\">github.com/adguardteam</span></a>)</span></span></td></tr><tr><td colspan=\"2\"></td><td class=\"subtext\"><span class=\"subline\">\\n          <span class=\"score\" id=\"score_39276687\">137 points</span> by <a href=\"user?id=kls0e\" class=\"hnuser\">kls0e</a> <span class=\"age\" title=\"2024-02-06T16:48:27\"><a href=\"item?id=39276687\">3 hours ago</a></span> <span id=\"unv_39276687\"></span> | <a href=\"hide?id=39276687&amp;goto=news\">hide</a> | <a href=\"item?id=39276687\">78&nbsp;comments</a>        </span>\\n              </td></tr>\\n      <tr class=\"spacer\" style=\"height:5px\"></tr>\\n                <tr class=\\'athing\\' id=\\'39279428\\'>\\n      <td align=\"right\" valign=\"top\" class=\"title\"><span class=\"rank\">3.</span></td>      <td valign=\"top\" class=\"votelinks\"><center><a id=\\'up_39279428\\'href=\\'vote?id=39279428&amp;how=up&amp;goto=news\\'><div class=\\'votearrow\\' title=\\'upvote\\'></div></a></center></td><td class=\"title\"><span class=\"titleline\"><a href=\"https://aaronparecki.com/2015/08/29/8/why-i-live-in-irc\">Why I Live in IRC (2015)</a><span class=\"sitebit comhead\"> (<a href=\"from?site=aaronparecki.com\"><span class=\"sitestr\">aaronparecki.com</span></a>)</span></span></td></tr><tr><td colspan=\"2\"></td><td class=\"subtext\"><span class=\"subline\">\\n          <span class=\"score\" id=\"score_39279428\">29 points</span> by <a href=\"user?id=spacebuffer\" class=\"hnuser\">spacebuffer</a> <span class=\"age\" title=\"2024-02-06T19:39:08\"><a href=\"item?id=39279428\">50 minutes ago</a></span> <span id=\"unv_39279428\"></span> | <a href=\"hide?id=39279428&amp;goto=news\">hide</a> | <a href=\"item?id=39279428\">17&nbsp;comments</a>        </span>\\n              </td></tr>\\n      <tr class=\"spacer\" style=\"height:5px\"></tr>\\n                <tr class=\\'athing\\' id=\\'39278631\\'>\\n      <td align=\"right\" valign=\"top\" class=\"title\"><span class=\"rank\">4.</span></td>      <td valign=\"top\" class=\"votelinks\"><center><a id=\\'up_39278631\\'href=\\'vote?id=39278631&amp;how=up&amp;goto=news\\'><div class=\\'votearrow\\' title=\\'upvote\\'></div></a></center></td><td class=\"title\"><span class=\"titleline\"><a href=\"https://ourworldindata.org/much-better-awful-can-be-better\">The world is awful. The world is much better. The world can be much better</a><span class=\"sitebit comhead\"> (<a href=\"from?site=ourworldindata.org\"><span class=\"sitestr\">ourworldindata.org</span></a>)</span></span></td></tr><tr><td colspan=\"2\"></td><td class=\"subtext\"><span class=\"subline\">\\n          <span class=\"score\" id=\"score_39278631\">166 points</span> by <a href=\"user?id=colonCapitalDee\" class=\"hnuser\">colonCapitalDee</a> <span class=\"age\" title=\"2024-02-06T18:46:25\"><a href=\"item?id=39278631\">1 hour ago</a></span> <span id=\"unv_39278631\"></span> | <a href=\"hide?id=39278631&amp;goto=news\">hide</a> | <a href=\"item?id=39278631\">75&nbsp;comments</a>        </span>\\n              </td></tr>\\n      <tr class=\"spacer\" style=\"height:5px\"></tr>\\n                <tr class=\\'athing\\' id=\\'39273932\\'>\\n      <td align=\"right\" valign=\"top\" class=\"title\"><span class=\"rank\">5.</span></td>      <td valign=\"top\" class=\"votelinks\"><center><a id=\\'up_39273932\\'href=\\'vote?id=39273932&amp;how=up&amp;goto=news\\'><div class=\\'votearrow\\' title=\\'upvote\\'></div></a></center></td><td class=\"title\"><span class=\"titleline\"><a href=\"https://clig.dev/\">Command line interface guidelines (2021)</a><span class=\"sitebit comhead\"> (<a href=\"from?site=clig.dev\"><span class=\"sitestr\">clig.dev</span></a>)</span></span></td></tr><tr><td colspan=\"2\"></td><td class=\"subtext\"><span class=\"subline\">\\n          <span class=\"score\" id=\"score_39273932\">269 points</span> by <a href=\"user?id=petercooper\" class=\"hnuser\">petercooper</a> <span class=\"age\" title=\"2024-02-06T13:25:34\"><a href=\"item?id=39273932\">7 hours ago</a></span> <span id=\"unv_39273932\"></span> | <a href=\"hide?id=39273932&amp;goto=news\">hide</a> | <a href=\"item?id=39273932\">136&nbsp;comments</a>        </span>\\n              </td></tr>\\n      <tr class=\"spacer\" style=\"height:5px\"></tr>\\n                <tr class=\\'athing\\' id=\\'39274125\\'>\\n      <td align=\"right\" valign=\"top\" class=\"title\"><span class=\"rank\">6.</span></td>      <td valign=\"top\" class=\"votelinks\"><center><a id=\\'up_39274125\\'href=\\'vote?id=39274125&amp;how=up&amp;goto=news\\'><div class=\\'votearrow\\' title=\\'upvote\\'></div></a></center></td><td class=\"title\"><span class=\"titleline\"><a href=\"https://netbox.dev/\">NetBox: a source of truth for everything on your network</a><span class=\"sitebit comhead\"> (<a href=\"from?site=netbox.dev\"><span class=\"sitestr\">netbox.dev</span></a>)</span></span></td></tr><tr><td colspan=\"2\"></td><td class=\"subtext\"><span class=\"subline\">\\n          <span class=\"score\" id=\"score_39274125\">168 points</span> by <a href=\"user?id=dpcx\" class=\"hnuser\">dpcx</a> <span class=\"age\" title=\"2024-02-06T13:49:38\"><a href=\"item?id=39274125\">6 hours ago</a></span> <span id=\"unv_39274125\"></span> | <a href=\"hide?id=39274125&amp;goto=news\">hide</a> | <a href=\"item?id=39274125\">54&nbsp;comments</a>        </span>\\n              </td></tr>\\n      <tr class=\"spacer\" style=\"height:5px\"></tr>\\n                <tr class=\\'athing\\' id=\\'39276452\\'>\\n      <td align=\"right\" valign=\"top\" class=\"title\"><span class=\"rank\">7.</span></td>      <td valign=\"top\" class=\"votelinks\"><center><a id=\\'up_39276452\\'href=\\'vote?id=39276452&amp;how=up&amp;goto=news\\'><div class=\\'votearrow\\' title=\\'upvote\\'></div></a></center></td><td class=\"title\"><span class=\"titleline\"><a href=\"https://www.newyorker.com/magazine/2024/02/05/the-perverse-policies-that-fuel-wildfires\">The perverse policies that fuel wildfires</a><span class=\"sitebit comhead\"> (<a href=\"from?site=newyorker.com\"><span class=\"sitestr\">newyorker.com</span></a>)</span></span></td></tr><tr><td colspan=\"2\"></td><td class=\"subtext\"><span class=\"subline\">\\n          <span class=\"score\" id=\"score_39276452\">62 points</span> by <a href=\"user?id=PaulHoule\" class=\"hnuser\">PaulHoule</a> <span class=\"age\" title=\"2024-02-06T16:35:28\"><a href=\"item?id=39276452\">3 hours ago</a></span> <span id=\"unv_39276452\"></span> | <a href=\"hide?id=39276452&amp;goto=news\">hide</a> | <a href=\"item?id=39276452\">63&nbsp;comments</a>        </span>\\n              </td></tr>\\n      <tr class=\"spacer\" style=\"height:5px\"></tr>\\n                <tr class=\\'athing\\' id=\\'39248900\\'>\\n      <td align=\"right\" valign=\"top\" class=\"title\"><span class=\"rank\">8.</span></td>      <td valign=\"top\" class=\"votelinks\"><center><a id=\\'up_39248900\\'href=\\'vote?id=39248900&amp;how=up&amp;goto=news\\'><div class=\\'votearrow\\' title=\\'upvote\\'></div></a></center></td><td class=\"title\"><span class=\"titleline\"><a href=\"https://www.fastcompany.com/3040223/when-it-clicks-it-clicks\">How Lego Became the Apple of Toys (2015)</a><span class=\"sitebit comhead\"> (<a href=\"from?site=fastcompany.com\"><span class=\"sitestr\">fastcompany.com</span></a>)</span></span></td></tr><tr><td colspan=\"2\"></td><td class=\"subtext\"><span class=\"subline\">\\n          <span class=\"score\" id=\"score_39248900\">37 points</span> by <a href=\"user?id=Tomte\" class=\"hnuser\">Tomte</a> <span class=\"age\" title=\"2024-02-04T09:46:40\"><a href=\"item?id=39248900\">3 hours ago</a></span> <span id=\"unv_39248900\"></span> | <a href=\"hide?id=39248900&amp;goto=news\">hide</a> | <a href=\"item?id=39248900\">26&nbsp;comments</a>        </span>\\n              </td></tr>\\n      <tr class=\"spacer\" style=\"height:5px\"></tr>\\n                <tr class=\\'athing\\' id=\\'39277451\\'>\\n      <td align=\"right\" valign=\"top\" class=\"title\"><span class=\"rank\">9.</span></td>      <td valign=\"top\" class=\"votelinks\"><center><a id=\\'up_39277451\\'href=\\'vote?id=39277451&amp;how=up&amp;goto=news\\'><div class=\\'votearrow\\' title=\\'upvote\\'></div></a></center></td><td class=\"title\"><span class=\"titleline\"><a href=\"https://depot.dev/blog/buildkit-in-depth\">BuildKit in depth: Docker&#x27;s build engine explained</a><span class=\"sitebit comhead\"> (<a href=\"from?site=depot.dev\"><span class=\"sitestr\">depot.dev</span></a>)</span></span></td></tr><tr><td colspan=\"2\"></td><td class=\"subtext\"><span class=\"subline\">\\n          <span class=\"score\" id=\"score_39277451\">46 points</span> by <a href=\"user?id=kylegalbraith\" class=\"hnuser\">kylegalbraith</a> <span class=\"age\" title=\"2024-02-06T17:31:24\"><a href=\"item?id=39277451\">2 hours ago</a></span> <span id=\"unv_39277451\"></span> | <a href=\"hide?id=39277451&amp;goto=news\">hide</a> | <a href=\"item?id=39277451\">4&nbsp;comments</a>        </span>\\n              </td></tr>\\n      <tr class=\"spacer\" style=\"height:5px\"></tr>\\n                <tr class=\\'athing\\' id=\\'39274918\\'>\\n      <td align=\"right\" valign=\"top\" class=\"title\"><span class=\"rank\">10.</span></td>      <td valign=\"top\" class=\"votelinks\"><center><a id=\\'up_39274918\\'href=\\'vote?id=39274918&amp;how=up&amp;goto=news\\'><div class=\\'votearrow\\' title=\\'upvote\\'></div></a></center></td><td class=\"title\"><span class=\"titleline\"><a href=\"https://arxiv.org/abs/2401.16212\">Better Call GPT: Comparing large language models against lawyers [pdf]</a><span class=\"sitebit comhead\"> (<a href=\"from?site=arxiv.org\"><span class=\"sitestr\">arxiv.org</span></a>)</span></span></td></tr><tr><td colspan=\"2\"></td><td class=\"subtext\"><span class=\"subline\">\\n          <span class=\"score\" id=\"score_39274918\">258 points</span> by <a href=\"user?id=vinnyglennon\" class=\"hnuser\">vinnyglennon</a> <span class=\"age\" title=\"2024-02-06T15:04:39\"><a href=\"item?id=39274918\">5 hours ago</a></span> <span id=\"unv_39274918\"></span> | <a href=\"hide?id=39274918&amp;goto=news\">hide</a> | <a href=\"item?id=39274918\">168&nbsp;comments</a>        </span>\\n              </td></tr>\\n      <tr class=\"spacer\" style=\"height:5px\"></tr>\\n                <tr class=\\'athing\\' id=\\'39274455\\'>\\n      <td align=\"right\" valign=\"top\" class=\"title\"><span class=\"rank\">11.</span></td>      <td valign=\"top\" class=\"votelinks\"><center><a id=\\'up_39274455\\'href=\\'vote?id=39274455&amp;how=up&amp;goto=news\\'><div class=\\'votearrow\\' title=\\'upvote\\'></div></a></center></td><td class=\"title\"><span class=\"titleline\"><a href=\"https://chriscoyier.net/2024/01/24/what-happened-with-the-web-monetization-api/\">What happened with the Web Monetization API?</a><span class=\"sitebit comhead\"> (<a href=\"from?site=chriscoyier.net\"><span class=\"sitestr\">chriscoyier.net</span></a>)</span></span></td></tr><tr><td colspan=\"2\"></td><td class=\"subtext\"><span class=\"subline\">\\n          <span class=\"score\" id=\"score_39274455\">127 points</span> by <a href=\"user?id=kuba-orlik\" class=\"hnuser\">kuba-orlik</a> <span class=\"age\" title=\"2024-02-06T14:23:24\"><a href=\"item?id=39274455\">6 hours ago</a></span> <span id=\"unv_39274455\"></span> | <a href=\"hide?id=39274455&amp;goto=news\">hide</a> | <a href=\"item?id=39274455\">118&nbsp;comments</a>        </span>\\n              </td></tr>\\n      <tr class=\"spacer\" style=\"height:5px\"></tr>\\n                <tr class=\\'athing\\' id=\\'39272952\\'>\\n      <td align=\"right\" valign=\"top\" class=\"title\"><span class=\"rank\">12.</span></td>      <td valign=\"top\" class=\"votelinks\"><center><a id=\\'up_39272952\\'href=\\'vote?id=39272952&amp;how=up&amp;goto=news\\'><div class=\\'votearrow\\' title=\\'upvote\\'></div></a></center></td><td class=\"title\"><span class=\"titleline\"><a href=\"https://utcc.utoronto.ca/~cks/space/blog/sysadmin/TrackingMachineImportance\">We might want to regularly keep track of how important each server is</a><span class=\"sitebit comhead\"> (<a href=\"from?site=utoronto.ca\"><span class=\"sitestr\">utoronto.ca</span></a>)</span></span></td></tr><tr><td colspan=\"2\"></td><td class=\"subtext\"><span class=\"subline\">\\n          <span class=\"score\" id=\"score_39272952\">174 points</span> by <a href=\"user?id=pabs3\" class=\"hnuser\">pabs3</a> <span class=\"age\" title=\"2024-02-06T10:51:37\"><a href=\"item?id=39272952\">9 hours ago</a></span> <span id=\"unv_39272952\"></span> | <a href=\"hide?id=39272952&amp;goto=news\">hide</a> | <a href=\"item?id=39272952\">103&nbsp;comments</a>        </span>\\n              </td></tr>\\n      <tr class=\"spacer\" style=\"height:5px\"></tr>\\n                <tr class=\\'athing\\' id=\\'39276916\\'>\\n      <td align=\"right\" valign=\"top\" class=\"title\"><span class=\"rank\">13.</span></td>      <td><img src=\"s.gif\" height=\"1\" width=\"14\"></td>       <td class=\"title\"><span class=\"titleline\"><a href=\"https://www.ycombinator.com/companies/playht/jobs/G6vI660-senior-ml-engineer-large-language-models\">PlayHT (YC W23) Is Hiring a Founding LLM Engineer and Researcher</a><span class=\"sitebit comhead\"> (<a href=\"from?site=ycombinator.com\"><span class=\"sitestr\">ycombinator.com</span></a>)</span></span></td></tr><tr><td colspan=\"2\"></td><td class=\"subtext\">\\n        <span class=\"age\" title=\"2024-02-06T17:01:01\"><a href=\"item?id=39276916\">3 hours ago</a></span> | <a href=\"hide?id=39276916&amp;goto=news\">hide</a>      </td></tr>\\n      <tr class=\"spacer\" style=\"height:5px\"></tr>\\n                <tr class=\\'athing\\' id=\\'39235153\\'>\\n      <td align=\"right\" valign=\"top\" class=\"title\"><span class=\"rank\">14.</span></td>      <td valign=\"top\" class=\"votelinks\"><center><a id=\\'up_39235153\\'href=\\'vote?id=39235153&amp;how=up&amp;goto=news\\'><div class=\\'votearrow\\' title=\\'upvote\\'></div></a></center></td><td class=\"title\"><span class=\"titleline\"><a href=\"https://www.smithsonianmag.com/history/these-paintings-reveal-how-the-dutch-adapted-to-extreme-weather-during-the-little-ice-age-180983671/\">Paintings reveal how the Dutch adapted to extreme weather in the little Ice Age</a><span class=\"sitebit comhead\"> (<a href=\"from?site=smithsonianmag.com\"><span class=\"sitestr\">smithsonianmag.com</span></a>)</span></span></td></tr><tr><td colspan=\"2\"></td><td class=\"subtext\"><span class=\"subline\">\\n          <span class=\"score\" id=\"score_39235153\">55 points</span> by <a href=\"user?id=Hooke\" class=\"hnuser\">Hooke</a> <span class=\"age\" title=\"2024-02-02T22:12:35\"><a href=\"item?id=39235153\">4 hours ago</a></span> <span id=\"unv_39235153\"></span> | <a href=\"hide?id=39235153&amp;goto=news\">hide</a> | <a href=\"item?id=39235153\">2&nbsp;comments</a>        </span>\\n              </td></tr>\\n      <tr class=\"spacer\" style=\"height:5px\"></tr>\\n                <tr class=\\'athing\\' id=\\'39277990\\'>\\n      <td align=\"right\" valign=\"top\" class=\"title\"><span class=\"rank\">15.</span></td>      <td valign=\"top\" class=\"votelinks\"><center><a id=\\'up_39277990\\'href=\\'vote?id=39277990&amp;how=up&amp;goto=news\\'><div class=\\'votearrow\\' title=\\'upvote\\'></div></a></center></td><td class=\"title\"><span class=\"titleline\"><a href=\"https://www.tomshardware.com/networking/three-million-malware-infected-smart-toothbrushes-used-in-swiss-ddos-attacks-botnet-causes-millions-of-euros-in-damages\">Three million malware-infected smart toothbrushes used in Swiss DDoS attacks</a><span class=\"sitebit comhead\"> (<a href=\"from?site=tomshardware.com\"><span class=\"sitestr\">tomshardware.com</span></a>)</span></span></td></tr><tr><td colspan=\"2\"></td><td class=\"subtext\"><span class=\"subline\">\\n          <span class=\"score\" id=\"score_39277990\">110 points</span> by <a href=\"user?id=dist-epoch\" class=\"hnuser\">dist-epoch</a> <span class=\"age\" title=\"2024-02-06T18:07:32\"><a href=\"item?id=39277990\">2 hours ago</a></span> <span id=\"unv_39277990\"></span> | <a href=\"hide?id=39277990&amp;goto=news\">hide</a> | <a href=\"item?id=39277990\">62&nbsp;comments</a>        </span>\\n              </td></tr>\\n      <tr class=\"spacer\" style=\"height:5px\"></tr>\\n                <tr class=\\'athing\\' id=\\'39275314\\'>\\n      <td align=\"right\" valign=\"top\" class=\"title\"><span class=\"rank\">16.</span></td>      <td valign=\"top\" class=\"votelinks\"><center><a id=\\'up_39275314\\'href=\\'vote?id=39275314&amp;how=up&amp;goto=news\\'><div class=\\'votearrow\\' title=\\'upvote\\'></div></a></center></td><td class=\"title\"><span class=\"titleline\"><a href=\"https://github.com/apple/ml-mgie\">Instruction-Based Image Editing via LLM</a><span class=\"sitebit comhead\"> (<a href=\"from?site=github.com/apple\"><span class=\"sitestr\">github.com/apple</span></a>)</span></span></td></tr><tr><td colspan=\"2\"></td><td class=\"subtext\"><span class=\"subline\">\\n          <span class=\"score\" id=\"score_39275314\">45 points</span> by <a href=\"user?id=phront\" class=\"hnuser\">phront</a> <span class=\"age\" title=\"2024-02-06T15:30:48\"><a href=\"item?id=39275314\">4 hours ago</a></span> <span id=\"unv_39275314\"></span> | <a href=\"hide?id=39275314&amp;goto=news\">hide</a> | <a href=\"item?id=39275314\">6&nbsp;comments</a>        </span>\\n              </td></tr>\\n      <tr class=\"spacer\" style=\"height:5px\"></tr>\\n                <tr class=\\'athing\\' id=\\'39274004\\'>\\n      <td align=\"right\" valign=\"top\" class=\"title\"><span class=\"rank\">17.</span></td>      <td valign=\"top\" class=\"votelinks\"><center><a id=\\'up_39274004\\'href=\\'vote?id=39274004&amp;how=up&amp;goto=news\\'><div class=\\'votearrow\\' title=\\'upvote\\'></div></a></center></td><td class=\"title\"><span class=\"titleline\"><a href=\"https://www.futureme.org/\">Write a Letter to Your Future Self</a><span class=\"sitebit comhead\"> (<a href=\"from?site=futureme.org\"><span class=\"sitestr\">futureme.org</span></a>)</span></span></td></tr><tr><td colspan=\"2\"></td><td class=\"subtext\"><span class=\"subline\">\\n          <span class=\"score\" id=\"score_39274004\">120 points</span> by <a href=\"user?id=skanderbm\" class=\"hnuser\">skanderbm</a> <span class=\"age\" title=\"2024-02-06T13:34:55\"><a href=\"item?id=39274004\">6 hours ago</a></span> <span id=\"unv_39274004\"></span> | <a href=\"hide?id=39274004&amp;goto=news\">hide</a> | <a href=\"item?id=39274004\">60&nbsp;comments</a>        </span>\\n              </td></tr>\\n      <tr class=\"spacer\" style=\"height:5px\"></tr>\\n                <tr class=\\'athing\\' id=\\'39248326\\'>\\n      <td align=\"right\" valign=\"top\" class=\"title\"><span class=\"rank\">18.</span></td>      <td valign=\"top\" class=\"votelinks\"><center><a id=\\'up_39248326\\'href=\\'vote?id=39248326&amp;how=up&amp;goto=news\\'><div class=\\'votearrow\\' title=\\'upvote\\'></div></a></center></td><td class=\"title\"><span class=\"titleline\"><a href=\"https://www.bbc.com/future/article/20240131-how-the-pennsylvania-dutch-created-groundhog-day\">The ancient Germanic history of Groundhog Day</a><span class=\"sitebit comhead\"> (<a href=\"from?site=bbc.com\"><span class=\"sitestr\">bbc.com</span></a>)</span></span></td></tr><tr><td colspan=\"2\"></td><td class=\"subtext\"><span class=\"subline\">\\n          <span class=\"score\" id=\"score_39248326\">18 points</span> by <a href=\"user?id=Thevet\" class=\"hnuser\">Thevet</a> <span class=\"age\" title=\"2024-02-04T07:20:03\"><a href=\"item?id=39248326\">2 hours ago</a></span> <span id=\"unv_39248326\"></span> | <a href=\"hide?id=39248326&amp;goto=news\">hide</a> | <a href=\"item?id=39248326\">8&nbsp;comments</a>        </span>\\n              </td></tr>\\n      <tr class=\"spacer\" style=\"height:5px\"></tr>\\n                <tr class=\\'athing\\' id=\\'39248892\\'>\\n      <td align=\"right\" valign=\"top\" class=\"title\"><span class=\"rank\">19.</span></td>      <td valign=\"top\" class=\"votelinks\"><center><a id=\\'up_39248892\\'href=\\'vote?id=39248892&amp;how=up&amp;goto=news\\'><div class=\\'votearrow\\' title=\\'upvote\\'></div></a></center></td><td class=\"title\"><span class=\"titleline\"><a href=\"https://devblogs.microsoft.com/oldnewthing/20240116-00/?p=109274\" rel=\"nofollow\">What is a hard error, and what makes it harder than an easy error?</a><span class=\"sitebit comhead\"> (<a href=\"from?site=microsoft.com\"><span class=\"sitestr\">microsoft.com</span></a>)</span></span></td></tr><tr><td colspan=\"2\"></td><td class=\"subtext\"><span class=\"subline\">\\n          <span class=\"score\" id=\"score_39248892\">5 points</span> by <a href=\"user?id=luu\" class=\"hnuser\">luu</a> <span class=\"age\" title=\"2024-02-04T09:45:33\"><a href=\"item?id=39248892\">1 hour ago</a></span> <span id=\"unv_39248892\"></span> | <a href=\"hide?id=39248892&amp;goto=news\">hide</a> | <a href=\"item?id=39248892\">discuss</a>        </span>\\n              </td></tr>\\n      <tr class=\"spacer\" style=\"height:5px\"></tr>\\n                <tr class=\\'athing\\' id=\\'39275203\\'>\\n      <td align=\"right\" valign=\"top\" class=\"title\"><span class=\"rank\">20.</span></td>      <td valign=\"top\" class=\"votelinks\"><center><a id=\\'up_39275203\\'href=\\'vote?id=39275203&amp;how=up&amp;goto=news\\'><div class=\\'votearrow\\' title=\\'upvote\\'></div></a></center></td><td class=\"title\"><span class=\"titleline\"><a href=\"https://arxiv.org/abs/2402.03239\">Bluesky and the AT Protocol: Usable decentralized social media</a><span class=\"sitebit comhead\"> (<a href=\"from?site=arxiv.org\"><span class=\"sitestr\">arxiv.org</span></a>)</span></span></td></tr><tr><td colspan=\"2\"></td><td class=\"subtext\"><span class=\"subline\">\\n          <span class=\"score\" id=\"score_39275203\">144 points</span> by <a href=\"user?id=lawgimenez\" class=\"hnuser\">lawgimenez</a> <span class=\"age\" title=\"2024-02-06T15:25:33\"><a href=\"item?id=39275203\">5 hours ago</a></span> <span id=\"unv_39275203\"></span> | <a href=\"hide?id=39275203&amp;goto=news\">hide</a> | <a href=\"item?id=39275203\">130&nbsp;comments</a>        </span>\\n              </td></tr>\\n      <tr class=\"spacer\" style=\"height:5px\"></tr>\\n                <tr class=\\'athing\\' id=\\'39276623\\'>\\n      <td align=\"right\" valign=\"top\" class=\"title\"><span class=\"rank\">21.</span></td>      <td valign=\"top\" class=\"votelinks\"><center><a id=\\'up_39276623\\'href=\\'vote?id=39276623&amp;how=up&amp;goto=news\\'><div class=\\'votearrow\\' title=\\'upvote\\'></div></a></center></td><td class=\"title\"><span class=\"titleline\"><a href=\"https://github.com/deepseek-ai/DeepSeek-Math\">DeepSeekMath 7B achieved 51.7% on MATH benchmark</a><span class=\"sitebit comhead\"> (<a href=\"from?site=github.com/deepseek-ai\"><span class=\"sitestr\">github.com/deepseek-ai</span></a>)</span></span></td></tr><tr><td colspan=\"2\"></td><td class=\"subtext\"><span class=\"subline\">\\n          <span class=\"score\" id=\"score_39276623\">52 points</span> by <a href=\"user?id=mdp\" class=\"hnuser\">mdp</a> <span class=\"age\" title=\"2024-02-06T16:45:16\"><a href=\"item?id=39276623\">3 hours ago</a></span> <span id=\"unv_39276623\"></span> | <a href=\"hide?id=39276623&amp;goto=news\">hide</a> | <a href=\"item?id=39276623\">10&nbsp;comments</a>        </span>\\n              </td></tr>\\n      <tr class=\"spacer\" style=\"height:5px\"></tr>\\n                <tr class=\\'athing\\' id=\\'39277767\\'>\\n      <td align=\"right\" valign=\"top\" class=\"title\"><span class=\"rank\">22.</span></td>      <td valign=\"top\" class=\"votelinks\"><center><a id=\\'up_39277767\\'href=\\'vote?id=39277767&amp;how=up&amp;goto=news\\'><div class=\\'votearrow\\' title=\\'upvote\\'></div></a></center></td><td class=\"title\"><span class=\"titleline\"><a href=\"https://www.thebureau.news/p/fake-chinese-income-mortgages-fuel\">&quot;Fake Chinese income&quot; mortgages fuel Toronto real estate bubble: HSBC bank leaks</a><span class=\"sitebit comhead\"> (<a href=\"from?site=thebureau.news\"><span class=\"sitestr\">thebureau.news</span></a>)</span></span></td></tr><tr><td colspan=\"2\"></td><td class=\"subtext\"><span class=\"subline\">\\n          <span class=\"score\" id=\"score_39277767\">261 points</span> by <a href=\"user?id=eswat\" class=\"hnuser\">eswat</a> <span class=\"age\" title=\"2024-02-06T17:52:31\"><a href=\"item?id=39277767\">2 hours ago</a></span> <span id=\"unv_39277767\"></span> | <a href=\"hide?id=39277767&amp;goto=news\">hide</a> | <a href=\"item?id=39277767\">151&nbsp;comments</a>        </span>\\n              </td></tr>\\n      <tr class=\"spacer\" style=\"height:5px\"></tr>\\n                <tr class=\\'athing\\' id=\\'39248331\\'>\\n      <td align=\"right\" valign=\"top\" class=\"title\"><span class=\"rank\">23.</span></td>      <td valign=\"top\" class=\"votelinks\"><center><a id=\\'up_39248331\\'href=\\'vote?id=39248331&amp;how=up&amp;goto=news\\'><div class=\\'votearrow\\' title=\\'upvote\\'></div></a></center></td><td class=\"title\"><span class=\"titleline\"><a href=\"https://aeon.co/essays/who-are-the-leaders-in-our-heads-and-how-did-they-get-there\">The mythos of leadership</a><span class=\"sitebit comhead\"> (<a href=\"from?site=aeon.co\"><span class=\"sitestr\">aeon.co</span></a>)</span></span></td></tr><tr><td colspan=\"2\"></td><td class=\"subtext\"><span class=\"subline\">\\n          <span class=\"score\" id=\"score_39248331\">50 points</span> by <a href=\"user?id=pepys\" class=\"hnuser\">pepys</a> <span class=\"age\" title=\"2024-02-04T07:21:57\"><a href=\"item?id=39248331\">5 hours ago</a></span> <span id=\"unv_39248331\"></span> | <a href=\"hide?id=39248331&amp;goto=news\">hide</a> | <a href=\"item?id=39248331\">37&nbsp;comments</a>        </span>\\n              </td></tr>\\n      <tr class=\"spacer\" style=\"height:5px\"></tr>\\n                <tr class=\\'athing\\' id=\\'39279441\\'>\\n      <td align=\"right\" valign=\"top\" class=\"title\"><span class=\"rank\">24.</span></td>      <td valign=\"top\" class=\"votelinks\"><center><a id=\\'up_39279441\\'href=\\'vote?id=39279441&amp;how=up&amp;goto=news\\'><div class=\\'votearrow\\' title=\\'upvote\\'></div></a></center></td><td class=\"title\"><span class=\"titleline\"><a href=\"https://techcrunch.com/2024/02/06/mozilla-monitors-new-service-removes-your-personal-info-from-data-broker-sites-automatically/\">Mozilla&#x27;s new service removes your personal info from data brokers</a><span class=\"sitebit comhead\"> (<a href=\"from?site=techcrunch.com\"><span class=\"sitestr\">techcrunch.com</span></a>)</span></span></td></tr><tr><td colspan=\"2\"></td><td class=\"subtext\"><span class=\"subline\">\\n          <span class=\"score\" id=\"score_39279441\">17 points</span> by <a href=\"user?id=nathan_phoenix\" class=\"hnuser\">nathan_phoenix</a> <span class=\"age\" title=\"2024-02-06T19:40:14\"><a href=\"item?id=39279441\">49 minutes ago</a></span> <span id=\"unv_39279441\"></span> | <a href=\"hide?id=39279441&amp;goto=news\">hide</a> | <a href=\"item?id=39279441\">3&nbsp;comments</a>        </span>\\n              </td></tr>\\n      <tr class=\"spacer\" style=\"height:5px\"></tr>\\n                <tr class=\\'athing\\' id=\\'39279113\\'>\\n      <td align=\"right\" valign=\"top\" class=\"title\"><span class=\"rank\">25.</span></td>      <td valign=\"top\" class=\"votelinks\"><center><a id=\\'up_39279113\\'href=\\'vote?id=39279113&amp;how=up&amp;goto=news\\'><div class=\\'votearrow\\' title=\\'upvote\\'></div></a></center></td><td class=\"title\"><span class=\"titleline\"><a href=\"https://www.businessinsider.com/amazon-one-medical-pharmacy-layoffs-broader-cost-cutting-campaign-2024-2\">Amazon is chopping jobs at its One Medical and Pharmacy units</a><span class=\"sitebit comhead\"> (<a href=\"from?site=businessinsider.com\"><span class=\"sitestr\">businessinsider.com</span></a>)</span></span></td></tr><tr><td colspan=\"2\"></td><td class=\"subtext\"><span class=\"subline\">\\n          <span class=\"score\" id=\"score_39279113\">17 points</span> by <a href=\"user?id=mfiguiere\" class=\"hnuser\">mfiguiere</a> <span class=\"age\" title=\"2024-02-06T19:16:39\"><a href=\"item?id=39279113\">1 hour ago</a></span> <span id=\"unv_39279113\"></span> | <a href=\"hide?id=39279113&amp;goto=news\">hide</a> | <a href=\"item?id=39279113\">10&nbsp;comments</a>        </span>\\n              </td></tr>\\n      <tr class=\"spacer\" style=\"height:5px\"></tr>\\n                <tr class=\\'athing\\' id=\\'39274631\\'>\\n      <td align=\"right\" valign=\"top\" class=\"title\"><span class=\"rank\">26.</span></td>      <td valign=\"top\" class=\"votelinks\"><center><a id=\\'up_39274631\\'href=\\'vote?id=39274631&amp;how=up&amp;goto=news\\'><div class=\\'votearrow\\' title=\\'upvote\\'></div></a></center></td><td class=\"title\"><span class=\"titleline\"><a href=\"https://blog.mozilla.org/en/mozilla/introducing-mozilla-monitor-plus-a-new-tool-to-automatically-remove-your-personal-information-from-data-broker-sites/\">Mozilla Monitor Plus: automatically remove your personal info from data brokers</a><span class=\"sitebit comhead\"> (<a href=\"from?site=blog.mozilla.org\"><span class=\"sitestr\">blog.mozilla.org</span></a>)</span></span></td></tr><tr><td colspan=\"2\"></td><td class=\"subtext\"><span class=\"subline\">\\n          <span class=\"score\" id=\"score_39274631\">169 points</span> by <a href=\"user?id=mikece\" class=\"hnuser\">mikece</a> <span class=\"age\" title=\"2024-02-06T14:37:19\"><a href=\"item?id=39274631\">5 hours ago</a></span> <span id=\"unv_39274631\"></span> | <a href=\"hide?id=39274631&amp;goto=news\">hide</a> | <a href=\"item?id=39274631\">130&nbsp;comments</a>        </span>\\n              </td></tr>\\n      <tr class=\"spacer\" style=\"height:5px\"></tr>\\n                <tr class=\\'athing\\' id=\\'39273308\\'>\\n      <td align=\"right\" valign=\"top\" class=\"title\"><span class=\"rank\">27.</span></td>      <td valign=\"top\" class=\"votelinks\"><center><a id=\\'up_39273308\\'href=\\'vote?id=39273308&amp;how=up&amp;goto=news\\'><div class=\\'votearrow\\' title=\\'upvote\\'></div></a></center></td><td class=\"title\"><span class=\"titleline\"><a href=\"https://longform.asmartbear.com/survivor-bias/\">Business advice plagued by survivor bias (2009)</a><span class=\"sitebit comhead\"> (<a href=\"from?site=asmartbear.com\"><span class=\"sitestr\">asmartbear.com</span></a>)</span></span></td></tr><tr><td colspan=\"2\"></td><td class=\"subtext\"><span class=\"subline\">\\n          <span class=\"score\" id=\"score_39273308\">36 points</span> by <a href=\"user?id=Garbage\" class=\"hnuser\">Garbage</a> <span class=\"age\" title=\"2024-02-06T11:57:26\"><a href=\"item?id=39273308\">8 hours ago</a></span> <span id=\"unv_39273308\"></span> | <a href=\"hide?id=39273308&amp;goto=news\">hide</a> | <a href=\"item?id=39273308\">11&nbsp;comments</a>        </span>\\n              </td></tr>\\n      <tr class=\"spacer\" style=\"height:5px\"></tr>\\n                <tr class=\\'athing\\' id=\\'39272884\\'>\\n      <td align=\"right\" valign=\"top\" class=\"title\"><span class=\"rank\">28.</span></td>      <td valign=\"top\" class=\"votelinks\"><center><a id=\\'up_39272884\\'href=\\'vote?id=39272884&amp;how=up&amp;goto=news\\'><div class=\\'votearrow\\' title=\\'upvote\\'></div></a></center></td><td class=\"title\"><span class=\"titleline\"><a href=\"https://spaceweatherarchive.com/2024/02/01/will-satellite-megaconstellations-weaken-earths-magnetic-field/\">Will satellite megaconstellations weaken earth&#x27;s magnetic field?</a><span class=\"sitebit comhead\"> (<a href=\"from?site=spaceweatherarchive.com\"><span class=\"sitestr\">spaceweatherarchive.com</span></a>)</span></span></td></tr><tr><td colspan=\"2\"></td><td class=\"subtext\"><span class=\"subline\">\\n          <span class=\"score\" id=\"score_39272884\">111 points</span> by <a href=\"user?id=altacc\" class=\"hnuser\">altacc</a> <span class=\"age\" title=\"2024-02-06T10:40:05\"><a href=\"item?id=39272884\">9 hours ago</a></span> <span id=\"unv_39272884\"></span> | <a href=\"hide?id=39272884&amp;goto=news\">hide</a> | <a href=\"item?id=39272884\">79&nbsp;comments</a>        </span>\\n              </td></tr>\\n      <tr class=\"spacer\" style=\"height:5px\"></tr>\\n                <tr class=\\'athing\\' id=\\'39274440\\'>\\n      <td align=\"right\" valign=\"top\" class=\"title\"><span class=\"rank\">29.</span></td>      <td valign=\"top\" class=\"votelinks\"><center><a id=\\'up_39274440\\'href=\\'vote?id=39274440&amp;how=up&amp;goto=news\\'><div class=\\'votearrow\\' title=\\'upvote\\'></div></a></center></td><td class=\"title\"><span class=\"titleline\"><a href=\"https://stratechery.com/2024/the-apple-vision-pro/\">The Apple Vision Pro</a><span class=\"sitebit comhead\"> (<a href=\"from?site=stratechery.com\"><span class=\"sitestr\">stratechery.com</span></a>)</span></span></td></tr><tr><td colspan=\"2\"></td><td class=\"subtext\"><span class=\"subline\">\\n          <span class=\"score\" id=\"score_39274440\">107 points</span> by <a href=\"user?id=allenleein\" class=\"hnuser\">allenleein</a> <span class=\"age\" title=\"2024-02-06T14:22:42\"><a href=\"item?id=39274440\">6 hours ago</a></span> <span id=\"unv_39274440\"></span> | <a href=\"hide?id=39274440&amp;goto=news\">hide</a> | <a href=\"item?id=39274440\">164&nbsp;comments</a>        </span>\\n              </td></tr>\\n      <tr class=\"spacer\" style=\"height:5px\"></tr>\\n                <tr class=\\'athing\\' id=\\'39261241\\'>\\n      <td align=\"right\" valign=\"top\" class=\"title\"><span class=\"rank\">30.</span></td>      <td valign=\"top\" class=\"votelinks\"><center><a id=\\'up_39261241\\'href=\\'vote?id=39261241&amp;how=up&amp;goto=news\\'><div class=\\'votearrow\\' title=\\'upvote\\'></div></a></center></td><td class=\"title\"><span class=\"titleline\"><a href=\"https://slimemoldtimemold.com/2024/02/03/lady-tasting-brine/\">Lady Tasting Brine</a><span class=\"sitebit comhead\"> (<a href=\"from?site=slimemoldtimemold.com\"><span class=\"sitestr\">slimemoldtimemold.com</span></a>)</span></span></td></tr><tr><td colspan=\"2\"></td><td class=\"subtext\"><span class=\"subline\">\\n          <span class=\"score\" id=\"score_39261241\">31 points</span> by <a href=\"user?id=surprisetalk\" class=\"hnuser\">surprisetalk</a> <span class=\"age\" title=\"2024-02-05T13:58:32\"><a href=\"item?id=39261241\">7 hours ago</a></span> <span id=\"unv_39261241\"></span> | <a href=\"hide?id=39261241&amp;goto=news\">hide</a> | <a href=\"item?id=39261241\">25&nbsp;comments</a>        </span>\\n              </td></tr>\\n      <tr class=\"spacer\" style=\"height:5px\"></tr>\\n            <tr class=\"morespace\" style=\"height:10px\"></tr><tr><td colspan=\"2\"></td>\\n      <td class=\\'title\\'><a href=\\'?p=2\\' class=\\'morelink\\' rel=\\'next\\'>More</a></td>    </tr>\\n  </table>\\n</td></tr>\\n<tr><td><img src=\"s.gif\" height=\"10\" width=\"0\"><table width=\"100%\" cellspacing=\"0\" cellpadding=\"1\"><tr><td bgcolor=\"#ff6600\"></td></tr></table><br>\\n<center><span class=\"yclinks\"><a href=\"newsguidelines.html\">Guidelines</a> | <a href=\"newsfaq.html\">FAQ</a> | <a href=\"lists\">Lists</a> | <a href=\"https://github.com/HackerNews/API\">API</a> | <a href=\"security.html\">Security</a> | <a href=\"https://www.ycombinator.com/legal/\">Legal</a> | <a href=\"https://www.ycombinator.com/apply/\">Apply to YC</a> | <a href=\"mailto:hn@ycombinator.com\">Contact</a></span><br><br>\\n<form method=\"get\" action=\"//hn.algolia.com/\">Search: <input type=\"text\" name=\"q\" size=\"17\" autocorrect=\"off\" spellcheck=\"false\" autocapitalize=\"off\" autocomplete=\"false\"></form></center></td></tr>      </table></center></body>\\n      <script type=\\'text/javascript\\' src=\\'hn.js?J16btoAd8hqdkSoIdLSk\\'></script>\\n  </html>\\n'"
      ]
     },
     "execution_count": 6,
     "metadata": {},
     "output_type": "execute_result"
    }
   ],
   "source": [
    "res.text"
   ]
  },
  {
   "cell_type": "code",
   "execution_count": 7,
   "id": "265e15b9",
   "metadata": {},
   "outputs": [],
   "source": [
    "# tree data structure most appreciate one for representin such large tabular data"
   ]
  },
  {
   "cell_type": "code",
   "execution_count": 8,
   "id": "7b2be757",
   "metadata": {},
   "outputs": [],
   "source": [
    "from bs4 import BeautifulSoup"
   ]
  },
  {
   "cell_type": "code",
   "execution_count": 9,
   "id": "b312a136",
   "metadata": {},
   "outputs": [
    {
     "data": {
      "text/plain": [
       "<html lang=\"en\" op=\"news\"><head><meta content=\"origin\" name=\"referrer\"/><meta content=\"width=device-width, initial-scale=1.0\" name=\"viewport\"/><link href=\"news.css?J16btoAd8hqdkSoIdLSk\" rel=\"stylesheet\" type=\"text/css\"/>\n",
       "<link href=\"y18.svg\" rel=\"icon\"/>\n",
       "<link href=\"rss\" rel=\"alternate\" title=\"RSS\" type=\"application/rss+xml\"/>\n",
       "<title>Hacker News</title></head><body><center><table bgcolor=\"#f6f6ef\" border=\"0\" cellpadding=\"0\" cellspacing=\"0\" id=\"hnmain\" width=\"85%\">\n",
       "<tr><td bgcolor=\"#ff6600\"><table border=\"0\" cellpadding=\"0\" cellspacing=\"0\" style=\"padding:2px\" width=\"100%\"><tr><td style=\"width:18px;padding-right:4px\"><a href=\"https://news.ycombinator.com\"><img height=\"18\" src=\"y18.svg\" style=\"border:1px white solid; display:block\" width=\"18\"/></a></td>\n",
       "<td style=\"line-height:12pt; height:10px;\"><span class=\"pagetop\"><b class=\"hnname\"><a href=\"news\">Hacker News</a></b>\n",
       "<a href=\"newest\">new</a> | <a href=\"front\">past</a> | <a href=\"newcomments\">comments</a> | <a href=\"ask\">ask</a> | <a href=\"show\">show</a> | <a href=\"jobs\">jobs</a> | <a href=\"submit\" rel=\"nofollow\">submit</a> </span></td><td style=\"text-align:right;padding-right:4px;\"><span class=\"pagetop\">\n",
       "<a href=\"login?goto=news\">login</a>\n",
       "</span></td>\n",
       "</tr></table></td></tr>\n",
       "<tr id=\"pagespace\" style=\"height:10px\" title=\"\"></tr><tr><td><table border=\"0\" cellpadding=\"0\" cellspacing=\"0\">\n",
       "<tr class=\"athing\" id=\"39279431\">\n",
       "<td align=\"right\" class=\"title\" valign=\"top\"><span class=\"rank\">1.</span></td> <td class=\"votelinks\" valign=\"top\"><center><a href=\"vote?id=39279431&amp;how=up&amp;goto=news\" id=\"up_39279431\"><div class=\"votearrow\" title=\"upvote\"></div></a></center></td><td class=\"title\"><span class=\"titleline\"><a href=\"https://newsroom.ibm.com/2024-02-06-New-IBM-LinuxONE-4-Express-to-Offer-Cost-Savings-and-Client-Value-through-a-Cyber-Resilient-Hybrid-Cloud-and-AI-Platform\">New IBM LinuxONE 4 Express – Rack-mounted pre-configured Linux mainframe</a><span class=\"sitebit comhead\"> (<a href=\"from?site=ibm.com\"><span class=\"sitestr\">ibm.com</span></a>)</span></span></td></tr><tr><td colspan=\"2\"></td><td class=\"subtext\"><span class=\"subline\">\n",
       "<span class=\"score\" id=\"score_39279431\">22 points</span> by <a class=\"hnuser\" href=\"user?id=rbanffy\">rbanffy</a> <span class=\"age\" title=\"2024-02-06T19:39:13\"><a href=\"item?id=39279431\">50 minutes ago</a></span> <span id=\"unv_39279431\"></span> | <a href=\"hide?id=39279431&amp;goto=news\">hide</a> | <a href=\"item?id=39279431\">20 comments</a> </span>\n",
       "</td></tr>\n",
       "<tr class=\"spacer\" style=\"height:5px\"></tr>\n",
       "<tr class=\"athing\" id=\"39276687\">\n",
       "<td align=\"right\" class=\"title\" valign=\"top\"><span class=\"rank\">2.</span></td> <td class=\"votelinks\" valign=\"top\"><center><a href=\"vote?id=39276687&amp;how=up&amp;goto=news\" id=\"up_39276687\"><div class=\"votearrow\" title=\"upvote\"></div></a></center></td><td class=\"title\"><span class=\"titleline\"><a href=\"https://github.com/AdguardTeam/AdGuardHome\">Runs on your OpenWrt box: AdGuard Home is network-wide blocking ads and tracking</a><span class=\"sitebit comhead\"> (<a href=\"from?site=github.com/adguardteam\"><span class=\"sitestr\">github.com/adguardteam</span></a>)</span></span></td></tr><tr><td colspan=\"2\"></td><td class=\"subtext\"><span class=\"subline\">\n",
       "<span class=\"score\" id=\"score_39276687\">137 points</span> by <a class=\"hnuser\" href=\"user?id=kls0e\">kls0e</a> <span class=\"age\" title=\"2024-02-06T16:48:27\"><a href=\"item?id=39276687\">3 hours ago</a></span> <span id=\"unv_39276687\"></span> | <a href=\"hide?id=39276687&amp;goto=news\">hide</a> | <a href=\"item?id=39276687\">78 comments</a> </span>\n",
       "</td></tr>\n",
       "<tr class=\"spacer\" style=\"height:5px\"></tr>\n",
       "<tr class=\"athing\" id=\"39279428\">\n",
       "<td align=\"right\" class=\"title\" valign=\"top\"><span class=\"rank\">3.</span></td> <td class=\"votelinks\" valign=\"top\"><center><a href=\"vote?id=39279428&amp;how=up&amp;goto=news\" id=\"up_39279428\"><div class=\"votearrow\" title=\"upvote\"></div></a></center></td><td class=\"title\"><span class=\"titleline\"><a href=\"https://aaronparecki.com/2015/08/29/8/why-i-live-in-irc\">Why I Live in IRC (2015)</a><span class=\"sitebit comhead\"> (<a href=\"from?site=aaronparecki.com\"><span class=\"sitestr\">aaronparecki.com</span></a>)</span></span></td></tr><tr><td colspan=\"2\"></td><td class=\"subtext\"><span class=\"subline\">\n",
       "<span class=\"score\" id=\"score_39279428\">29 points</span> by <a class=\"hnuser\" href=\"user?id=spacebuffer\">spacebuffer</a> <span class=\"age\" title=\"2024-02-06T19:39:08\"><a href=\"item?id=39279428\">50 minutes ago</a></span> <span id=\"unv_39279428\"></span> | <a href=\"hide?id=39279428&amp;goto=news\">hide</a> | <a href=\"item?id=39279428\">17 comments</a> </span>\n",
       "</td></tr>\n",
       "<tr class=\"spacer\" style=\"height:5px\"></tr>\n",
       "<tr class=\"athing\" id=\"39278631\">\n",
       "<td align=\"right\" class=\"title\" valign=\"top\"><span class=\"rank\">4.</span></td> <td class=\"votelinks\" valign=\"top\"><center><a href=\"vote?id=39278631&amp;how=up&amp;goto=news\" id=\"up_39278631\"><div class=\"votearrow\" title=\"upvote\"></div></a></center></td><td class=\"title\"><span class=\"titleline\"><a href=\"https://ourworldindata.org/much-better-awful-can-be-better\">The world is awful. The world is much better. The world can be much better</a><span class=\"sitebit comhead\"> (<a href=\"from?site=ourworldindata.org\"><span class=\"sitestr\">ourworldindata.org</span></a>)</span></span></td></tr><tr><td colspan=\"2\"></td><td class=\"subtext\"><span class=\"subline\">\n",
       "<span class=\"score\" id=\"score_39278631\">166 points</span> by <a class=\"hnuser\" href=\"user?id=colonCapitalDee\">colonCapitalDee</a> <span class=\"age\" title=\"2024-02-06T18:46:25\"><a href=\"item?id=39278631\">1 hour ago</a></span> <span id=\"unv_39278631\"></span> | <a href=\"hide?id=39278631&amp;goto=news\">hide</a> | <a href=\"item?id=39278631\">75 comments</a> </span>\n",
       "</td></tr>\n",
       "<tr class=\"spacer\" style=\"height:5px\"></tr>\n",
       "<tr class=\"athing\" id=\"39273932\">\n",
       "<td align=\"right\" class=\"title\" valign=\"top\"><span class=\"rank\">5.</span></td> <td class=\"votelinks\" valign=\"top\"><center><a href=\"vote?id=39273932&amp;how=up&amp;goto=news\" id=\"up_39273932\"><div class=\"votearrow\" title=\"upvote\"></div></a></center></td><td class=\"title\"><span class=\"titleline\"><a href=\"https://clig.dev/\">Command line interface guidelines (2021)</a><span class=\"sitebit comhead\"> (<a href=\"from?site=clig.dev\"><span class=\"sitestr\">clig.dev</span></a>)</span></span></td></tr><tr><td colspan=\"2\"></td><td class=\"subtext\"><span class=\"subline\">\n",
       "<span class=\"score\" id=\"score_39273932\">269 points</span> by <a class=\"hnuser\" href=\"user?id=petercooper\">petercooper</a> <span class=\"age\" title=\"2024-02-06T13:25:34\"><a href=\"item?id=39273932\">7 hours ago</a></span> <span id=\"unv_39273932\"></span> | <a href=\"hide?id=39273932&amp;goto=news\">hide</a> | <a href=\"item?id=39273932\">136 comments</a> </span>\n",
       "</td></tr>\n",
       "<tr class=\"spacer\" style=\"height:5px\"></tr>\n",
       "<tr class=\"athing\" id=\"39274125\">\n",
       "<td align=\"right\" class=\"title\" valign=\"top\"><span class=\"rank\">6.</span></td> <td class=\"votelinks\" valign=\"top\"><center><a href=\"vote?id=39274125&amp;how=up&amp;goto=news\" id=\"up_39274125\"><div class=\"votearrow\" title=\"upvote\"></div></a></center></td><td class=\"title\"><span class=\"titleline\"><a href=\"https://netbox.dev/\">NetBox: a source of truth for everything on your network</a><span class=\"sitebit comhead\"> (<a href=\"from?site=netbox.dev\"><span class=\"sitestr\">netbox.dev</span></a>)</span></span></td></tr><tr><td colspan=\"2\"></td><td class=\"subtext\"><span class=\"subline\">\n",
       "<span class=\"score\" id=\"score_39274125\">168 points</span> by <a class=\"hnuser\" href=\"user?id=dpcx\">dpcx</a> <span class=\"age\" title=\"2024-02-06T13:49:38\"><a href=\"item?id=39274125\">6 hours ago</a></span> <span id=\"unv_39274125\"></span> | <a href=\"hide?id=39274125&amp;goto=news\">hide</a> | <a href=\"item?id=39274125\">54 comments</a> </span>\n",
       "</td></tr>\n",
       "<tr class=\"spacer\" style=\"height:5px\"></tr>\n",
       "<tr class=\"athing\" id=\"39276452\">\n",
       "<td align=\"right\" class=\"title\" valign=\"top\"><span class=\"rank\">7.</span></td> <td class=\"votelinks\" valign=\"top\"><center><a href=\"vote?id=39276452&amp;how=up&amp;goto=news\" id=\"up_39276452\"><div class=\"votearrow\" title=\"upvote\"></div></a></center></td><td class=\"title\"><span class=\"titleline\"><a href=\"https://www.newyorker.com/magazine/2024/02/05/the-perverse-policies-that-fuel-wildfires\">The perverse policies that fuel wildfires</a><span class=\"sitebit comhead\"> (<a href=\"from?site=newyorker.com\"><span class=\"sitestr\">newyorker.com</span></a>)</span></span></td></tr><tr><td colspan=\"2\"></td><td class=\"subtext\"><span class=\"subline\">\n",
       "<span class=\"score\" id=\"score_39276452\">62 points</span> by <a class=\"hnuser\" href=\"user?id=PaulHoule\">PaulHoule</a> <span class=\"age\" title=\"2024-02-06T16:35:28\"><a href=\"item?id=39276452\">3 hours ago</a></span> <span id=\"unv_39276452\"></span> | <a href=\"hide?id=39276452&amp;goto=news\">hide</a> | <a href=\"item?id=39276452\">63 comments</a> </span>\n",
       "</td></tr>\n",
       "<tr class=\"spacer\" style=\"height:5px\"></tr>\n",
       "<tr class=\"athing\" id=\"39248900\">\n",
       "<td align=\"right\" class=\"title\" valign=\"top\"><span class=\"rank\">8.</span></td> <td class=\"votelinks\" valign=\"top\"><center><a href=\"vote?id=39248900&amp;how=up&amp;goto=news\" id=\"up_39248900\"><div class=\"votearrow\" title=\"upvote\"></div></a></center></td><td class=\"title\"><span class=\"titleline\"><a href=\"https://www.fastcompany.com/3040223/when-it-clicks-it-clicks\">How Lego Became the Apple of Toys (2015)</a><span class=\"sitebit comhead\"> (<a href=\"from?site=fastcompany.com\"><span class=\"sitestr\">fastcompany.com</span></a>)</span></span></td></tr><tr><td colspan=\"2\"></td><td class=\"subtext\"><span class=\"subline\">\n",
       "<span class=\"score\" id=\"score_39248900\">37 points</span> by <a class=\"hnuser\" href=\"user?id=Tomte\">Tomte</a> <span class=\"age\" title=\"2024-02-04T09:46:40\"><a href=\"item?id=39248900\">3 hours ago</a></span> <span id=\"unv_39248900\"></span> | <a href=\"hide?id=39248900&amp;goto=news\">hide</a> | <a href=\"item?id=39248900\">26 comments</a> </span>\n",
       "</td></tr>\n",
       "<tr class=\"spacer\" style=\"height:5px\"></tr>\n",
       "<tr class=\"athing\" id=\"39277451\">\n",
       "<td align=\"right\" class=\"title\" valign=\"top\"><span class=\"rank\">9.</span></td> <td class=\"votelinks\" valign=\"top\"><center><a href=\"vote?id=39277451&amp;how=up&amp;goto=news\" id=\"up_39277451\"><div class=\"votearrow\" title=\"upvote\"></div></a></center></td><td class=\"title\"><span class=\"titleline\"><a href=\"https://depot.dev/blog/buildkit-in-depth\">BuildKit in depth: Docker's build engine explained</a><span class=\"sitebit comhead\"> (<a href=\"from?site=depot.dev\"><span class=\"sitestr\">depot.dev</span></a>)</span></span></td></tr><tr><td colspan=\"2\"></td><td class=\"subtext\"><span class=\"subline\">\n",
       "<span class=\"score\" id=\"score_39277451\">46 points</span> by <a class=\"hnuser\" href=\"user?id=kylegalbraith\">kylegalbraith</a> <span class=\"age\" title=\"2024-02-06T17:31:24\"><a href=\"item?id=39277451\">2 hours ago</a></span> <span id=\"unv_39277451\"></span> | <a href=\"hide?id=39277451&amp;goto=news\">hide</a> | <a href=\"item?id=39277451\">4 comments</a> </span>\n",
       "</td></tr>\n",
       "<tr class=\"spacer\" style=\"height:5px\"></tr>\n",
       "<tr class=\"athing\" id=\"39274918\">\n",
       "<td align=\"right\" class=\"title\" valign=\"top\"><span class=\"rank\">10.</span></td> <td class=\"votelinks\" valign=\"top\"><center><a href=\"vote?id=39274918&amp;how=up&amp;goto=news\" id=\"up_39274918\"><div class=\"votearrow\" title=\"upvote\"></div></a></center></td><td class=\"title\"><span class=\"titleline\"><a href=\"https://arxiv.org/abs/2401.16212\">Better Call GPT: Comparing large language models against lawyers [pdf]</a><span class=\"sitebit comhead\"> (<a href=\"from?site=arxiv.org\"><span class=\"sitestr\">arxiv.org</span></a>)</span></span></td></tr><tr><td colspan=\"2\"></td><td class=\"subtext\"><span class=\"subline\">\n",
       "<span class=\"score\" id=\"score_39274918\">258 points</span> by <a class=\"hnuser\" href=\"user?id=vinnyglennon\">vinnyglennon</a> <span class=\"age\" title=\"2024-02-06T15:04:39\"><a href=\"item?id=39274918\">5 hours ago</a></span> <span id=\"unv_39274918\"></span> | <a href=\"hide?id=39274918&amp;goto=news\">hide</a> | <a href=\"item?id=39274918\">168 comments</a> </span>\n",
       "</td></tr>\n",
       "<tr class=\"spacer\" style=\"height:5px\"></tr>\n",
       "<tr class=\"athing\" id=\"39274455\">\n",
       "<td align=\"right\" class=\"title\" valign=\"top\"><span class=\"rank\">11.</span></td> <td class=\"votelinks\" valign=\"top\"><center><a href=\"vote?id=39274455&amp;how=up&amp;goto=news\" id=\"up_39274455\"><div class=\"votearrow\" title=\"upvote\"></div></a></center></td><td class=\"title\"><span class=\"titleline\"><a href=\"https://chriscoyier.net/2024/01/24/what-happened-with-the-web-monetization-api/\">What happened with the Web Monetization API?</a><span class=\"sitebit comhead\"> (<a href=\"from?site=chriscoyier.net\"><span class=\"sitestr\">chriscoyier.net</span></a>)</span></span></td></tr><tr><td colspan=\"2\"></td><td class=\"subtext\"><span class=\"subline\">\n",
       "<span class=\"score\" id=\"score_39274455\">127 points</span> by <a class=\"hnuser\" href=\"user?id=kuba-orlik\">kuba-orlik</a> <span class=\"age\" title=\"2024-02-06T14:23:24\"><a href=\"item?id=39274455\">6 hours ago</a></span> <span id=\"unv_39274455\"></span> | <a href=\"hide?id=39274455&amp;goto=news\">hide</a> | <a href=\"item?id=39274455\">118 comments</a> </span>\n",
       "</td></tr>\n",
       "<tr class=\"spacer\" style=\"height:5px\"></tr>\n",
       "<tr class=\"athing\" id=\"39272952\">\n",
       "<td align=\"right\" class=\"title\" valign=\"top\"><span class=\"rank\">12.</span></td> <td class=\"votelinks\" valign=\"top\"><center><a href=\"vote?id=39272952&amp;how=up&amp;goto=news\" id=\"up_39272952\"><div class=\"votearrow\" title=\"upvote\"></div></a></center></td><td class=\"title\"><span class=\"titleline\"><a href=\"https://utcc.utoronto.ca/~cks/space/blog/sysadmin/TrackingMachineImportance\">We might want to regularly keep track of how important each server is</a><span class=\"sitebit comhead\"> (<a href=\"from?site=utoronto.ca\"><span class=\"sitestr\">utoronto.ca</span></a>)</span></span></td></tr><tr><td colspan=\"2\"></td><td class=\"subtext\"><span class=\"subline\">\n",
       "<span class=\"score\" id=\"score_39272952\">174 points</span> by <a class=\"hnuser\" href=\"user?id=pabs3\">pabs3</a> <span class=\"age\" title=\"2024-02-06T10:51:37\"><a href=\"item?id=39272952\">9 hours ago</a></span> <span id=\"unv_39272952\"></span> | <a href=\"hide?id=39272952&amp;goto=news\">hide</a> | <a href=\"item?id=39272952\">103 comments</a> </span>\n",
       "</td></tr>\n",
       "<tr class=\"spacer\" style=\"height:5px\"></tr>\n",
       "<tr class=\"athing\" id=\"39276916\">\n",
       "<td align=\"right\" class=\"title\" valign=\"top\"><span class=\"rank\">13.</span></td> <td><img height=\"1\" src=\"s.gif\" width=\"14\"/></td> <td class=\"title\"><span class=\"titleline\"><a href=\"https://www.ycombinator.com/companies/playht/jobs/G6vI660-senior-ml-engineer-large-language-models\">PlayHT (YC W23) Is Hiring a Founding LLM Engineer and Researcher</a><span class=\"sitebit comhead\"> (<a href=\"from?site=ycombinator.com\"><span class=\"sitestr\">ycombinator.com</span></a>)</span></span></td></tr><tr><td colspan=\"2\"></td><td class=\"subtext\">\n",
       "<span class=\"age\" title=\"2024-02-06T17:01:01\"><a href=\"item?id=39276916\">3 hours ago</a></span> | <a href=\"hide?id=39276916&amp;goto=news\">hide</a> </td></tr>\n",
       "<tr class=\"spacer\" style=\"height:5px\"></tr>\n",
       "<tr class=\"athing\" id=\"39235153\">\n",
       "<td align=\"right\" class=\"title\" valign=\"top\"><span class=\"rank\">14.</span></td> <td class=\"votelinks\" valign=\"top\"><center><a href=\"vote?id=39235153&amp;how=up&amp;goto=news\" id=\"up_39235153\"><div class=\"votearrow\" title=\"upvote\"></div></a></center></td><td class=\"title\"><span class=\"titleline\"><a href=\"https://www.smithsonianmag.com/history/these-paintings-reveal-how-the-dutch-adapted-to-extreme-weather-during-the-little-ice-age-180983671/\">Paintings reveal how the Dutch adapted to extreme weather in the little Ice Age</a><span class=\"sitebit comhead\"> (<a href=\"from?site=smithsonianmag.com\"><span class=\"sitestr\">smithsonianmag.com</span></a>)</span></span></td></tr><tr><td colspan=\"2\"></td><td class=\"subtext\"><span class=\"subline\">\n",
       "<span class=\"score\" id=\"score_39235153\">55 points</span> by <a class=\"hnuser\" href=\"user?id=Hooke\">Hooke</a> <span class=\"age\" title=\"2024-02-02T22:12:35\"><a href=\"item?id=39235153\">4 hours ago</a></span> <span id=\"unv_39235153\"></span> | <a href=\"hide?id=39235153&amp;goto=news\">hide</a> | <a href=\"item?id=39235153\">2 comments</a> </span>\n",
       "</td></tr>\n",
       "<tr class=\"spacer\" style=\"height:5px\"></tr>\n",
       "<tr class=\"athing\" id=\"39277990\">\n",
       "<td align=\"right\" class=\"title\" valign=\"top\"><span class=\"rank\">15.</span></td> <td class=\"votelinks\" valign=\"top\"><center><a href=\"vote?id=39277990&amp;how=up&amp;goto=news\" id=\"up_39277990\"><div class=\"votearrow\" title=\"upvote\"></div></a></center></td><td class=\"title\"><span class=\"titleline\"><a href=\"https://www.tomshardware.com/networking/three-million-malware-infected-smart-toothbrushes-used-in-swiss-ddos-attacks-botnet-causes-millions-of-euros-in-damages\">Three million malware-infected smart toothbrushes used in Swiss DDoS attacks</a><span class=\"sitebit comhead\"> (<a href=\"from?site=tomshardware.com\"><span class=\"sitestr\">tomshardware.com</span></a>)</span></span></td></tr><tr><td colspan=\"2\"></td><td class=\"subtext\"><span class=\"subline\">\n",
       "<span class=\"score\" id=\"score_39277990\">110 points</span> by <a class=\"hnuser\" href=\"user?id=dist-epoch\">dist-epoch</a> <span class=\"age\" title=\"2024-02-06T18:07:32\"><a href=\"item?id=39277990\">2 hours ago</a></span> <span id=\"unv_39277990\"></span> | <a href=\"hide?id=39277990&amp;goto=news\">hide</a> | <a href=\"item?id=39277990\">62 comments</a> </span>\n",
       "</td></tr>\n",
       "<tr class=\"spacer\" style=\"height:5px\"></tr>\n",
       "<tr class=\"athing\" id=\"39275314\">\n",
       "<td align=\"right\" class=\"title\" valign=\"top\"><span class=\"rank\">16.</span></td> <td class=\"votelinks\" valign=\"top\"><center><a href=\"vote?id=39275314&amp;how=up&amp;goto=news\" id=\"up_39275314\"><div class=\"votearrow\" title=\"upvote\"></div></a></center></td><td class=\"title\"><span class=\"titleline\"><a href=\"https://github.com/apple/ml-mgie\">Instruction-Based Image Editing via LLM</a><span class=\"sitebit comhead\"> (<a href=\"from?site=github.com/apple\"><span class=\"sitestr\">github.com/apple</span></a>)</span></span></td></tr><tr><td colspan=\"2\"></td><td class=\"subtext\"><span class=\"subline\">\n",
       "<span class=\"score\" id=\"score_39275314\">45 points</span> by <a class=\"hnuser\" href=\"user?id=phront\">phront</a> <span class=\"age\" title=\"2024-02-06T15:30:48\"><a href=\"item?id=39275314\">4 hours ago</a></span> <span id=\"unv_39275314\"></span> | <a href=\"hide?id=39275314&amp;goto=news\">hide</a> | <a href=\"item?id=39275314\">6 comments</a> </span>\n",
       "</td></tr>\n",
       "<tr class=\"spacer\" style=\"height:5px\"></tr>\n",
       "<tr class=\"athing\" id=\"39274004\">\n",
       "<td align=\"right\" class=\"title\" valign=\"top\"><span class=\"rank\">17.</span></td> <td class=\"votelinks\" valign=\"top\"><center><a href=\"vote?id=39274004&amp;how=up&amp;goto=news\" id=\"up_39274004\"><div class=\"votearrow\" title=\"upvote\"></div></a></center></td><td class=\"title\"><span class=\"titleline\"><a href=\"https://www.futureme.org/\">Write a Letter to Your Future Self</a><span class=\"sitebit comhead\"> (<a href=\"from?site=futureme.org\"><span class=\"sitestr\">futureme.org</span></a>)</span></span></td></tr><tr><td colspan=\"2\"></td><td class=\"subtext\"><span class=\"subline\">\n",
       "<span class=\"score\" id=\"score_39274004\">120 points</span> by <a class=\"hnuser\" href=\"user?id=skanderbm\">skanderbm</a> <span class=\"age\" title=\"2024-02-06T13:34:55\"><a href=\"item?id=39274004\">6 hours ago</a></span> <span id=\"unv_39274004\"></span> | <a href=\"hide?id=39274004&amp;goto=news\">hide</a> | <a href=\"item?id=39274004\">60 comments</a> </span>\n",
       "</td></tr>\n",
       "<tr class=\"spacer\" style=\"height:5px\"></tr>\n",
       "<tr class=\"athing\" id=\"39248326\">\n",
       "<td align=\"right\" class=\"title\" valign=\"top\"><span class=\"rank\">18.</span></td> <td class=\"votelinks\" valign=\"top\"><center><a href=\"vote?id=39248326&amp;how=up&amp;goto=news\" id=\"up_39248326\"><div class=\"votearrow\" title=\"upvote\"></div></a></center></td><td class=\"title\"><span class=\"titleline\"><a href=\"https://www.bbc.com/future/article/20240131-how-the-pennsylvania-dutch-created-groundhog-day\">The ancient Germanic history of Groundhog Day</a><span class=\"sitebit comhead\"> (<a href=\"from?site=bbc.com\"><span class=\"sitestr\">bbc.com</span></a>)</span></span></td></tr><tr><td colspan=\"2\"></td><td class=\"subtext\"><span class=\"subline\">\n",
       "<span class=\"score\" id=\"score_39248326\">18 points</span> by <a class=\"hnuser\" href=\"user?id=Thevet\">Thevet</a> <span class=\"age\" title=\"2024-02-04T07:20:03\"><a href=\"item?id=39248326\">2 hours ago</a></span> <span id=\"unv_39248326\"></span> | <a href=\"hide?id=39248326&amp;goto=news\">hide</a> | <a href=\"item?id=39248326\">8 comments</a> </span>\n",
       "</td></tr>\n",
       "<tr class=\"spacer\" style=\"height:5px\"></tr>\n",
       "<tr class=\"athing\" id=\"39248892\">\n",
       "<td align=\"right\" class=\"title\" valign=\"top\"><span class=\"rank\">19.</span></td> <td class=\"votelinks\" valign=\"top\"><center><a href=\"vote?id=39248892&amp;how=up&amp;goto=news\" id=\"up_39248892\"><div class=\"votearrow\" title=\"upvote\"></div></a></center></td><td class=\"title\"><span class=\"titleline\"><a href=\"https://devblogs.microsoft.com/oldnewthing/20240116-00/?p=109274\" rel=\"nofollow\">What is a hard error, and what makes it harder than an easy error?</a><span class=\"sitebit comhead\"> (<a href=\"from?site=microsoft.com\"><span class=\"sitestr\">microsoft.com</span></a>)</span></span></td></tr><tr><td colspan=\"2\"></td><td class=\"subtext\"><span class=\"subline\">\n",
       "<span class=\"score\" id=\"score_39248892\">5 points</span> by <a class=\"hnuser\" href=\"user?id=luu\">luu</a> <span class=\"age\" title=\"2024-02-04T09:45:33\"><a href=\"item?id=39248892\">1 hour ago</a></span> <span id=\"unv_39248892\"></span> | <a href=\"hide?id=39248892&amp;goto=news\">hide</a> | <a href=\"item?id=39248892\">discuss</a> </span>\n",
       "</td></tr>\n",
       "<tr class=\"spacer\" style=\"height:5px\"></tr>\n",
       "<tr class=\"athing\" id=\"39275203\">\n",
       "<td align=\"right\" class=\"title\" valign=\"top\"><span class=\"rank\">20.</span></td> <td class=\"votelinks\" valign=\"top\"><center><a href=\"vote?id=39275203&amp;how=up&amp;goto=news\" id=\"up_39275203\"><div class=\"votearrow\" title=\"upvote\"></div></a></center></td><td class=\"title\"><span class=\"titleline\"><a href=\"https://arxiv.org/abs/2402.03239\">Bluesky and the AT Protocol: Usable decentralized social media</a><span class=\"sitebit comhead\"> (<a href=\"from?site=arxiv.org\"><span class=\"sitestr\">arxiv.org</span></a>)</span></span></td></tr><tr><td colspan=\"2\"></td><td class=\"subtext\"><span class=\"subline\">\n",
       "<span class=\"score\" id=\"score_39275203\">144 points</span> by <a class=\"hnuser\" href=\"user?id=lawgimenez\">lawgimenez</a> <span class=\"age\" title=\"2024-02-06T15:25:33\"><a href=\"item?id=39275203\">5 hours ago</a></span> <span id=\"unv_39275203\"></span> | <a href=\"hide?id=39275203&amp;goto=news\">hide</a> | <a href=\"item?id=39275203\">130 comments</a> </span>\n",
       "</td></tr>\n",
       "<tr class=\"spacer\" style=\"height:5px\"></tr>\n",
       "<tr class=\"athing\" id=\"39276623\">\n",
       "<td align=\"right\" class=\"title\" valign=\"top\"><span class=\"rank\">21.</span></td> <td class=\"votelinks\" valign=\"top\"><center><a href=\"vote?id=39276623&amp;how=up&amp;goto=news\" id=\"up_39276623\"><div class=\"votearrow\" title=\"upvote\"></div></a></center></td><td class=\"title\"><span class=\"titleline\"><a href=\"https://github.com/deepseek-ai/DeepSeek-Math\">DeepSeekMath 7B achieved 51.7% on MATH benchmark</a><span class=\"sitebit comhead\"> (<a href=\"from?site=github.com/deepseek-ai\"><span class=\"sitestr\">github.com/deepseek-ai</span></a>)</span></span></td></tr><tr><td colspan=\"2\"></td><td class=\"subtext\"><span class=\"subline\">\n",
       "<span class=\"score\" id=\"score_39276623\">52 points</span> by <a class=\"hnuser\" href=\"user?id=mdp\">mdp</a> <span class=\"age\" title=\"2024-02-06T16:45:16\"><a href=\"item?id=39276623\">3 hours ago</a></span> <span id=\"unv_39276623\"></span> | <a href=\"hide?id=39276623&amp;goto=news\">hide</a> | <a href=\"item?id=39276623\">10 comments</a> </span>\n",
       "</td></tr>\n",
       "<tr class=\"spacer\" style=\"height:5px\"></tr>\n",
       "<tr class=\"athing\" id=\"39277767\">\n",
       "<td align=\"right\" class=\"title\" valign=\"top\"><span class=\"rank\">22.</span></td> <td class=\"votelinks\" valign=\"top\"><center><a href=\"vote?id=39277767&amp;how=up&amp;goto=news\" id=\"up_39277767\"><div class=\"votearrow\" title=\"upvote\"></div></a></center></td><td class=\"title\"><span class=\"titleline\"><a href=\"https://www.thebureau.news/p/fake-chinese-income-mortgages-fuel\">\"Fake Chinese income\" mortgages fuel Toronto real estate bubble: HSBC bank leaks</a><span class=\"sitebit comhead\"> (<a href=\"from?site=thebureau.news\"><span class=\"sitestr\">thebureau.news</span></a>)</span></span></td></tr><tr><td colspan=\"2\"></td><td class=\"subtext\"><span class=\"subline\">\n",
       "<span class=\"score\" id=\"score_39277767\">261 points</span> by <a class=\"hnuser\" href=\"user?id=eswat\">eswat</a> <span class=\"age\" title=\"2024-02-06T17:52:31\"><a href=\"item?id=39277767\">2 hours ago</a></span> <span id=\"unv_39277767\"></span> | <a href=\"hide?id=39277767&amp;goto=news\">hide</a> | <a href=\"item?id=39277767\">151 comments</a> </span>\n",
       "</td></tr>\n",
       "<tr class=\"spacer\" style=\"height:5px\"></tr>\n",
       "<tr class=\"athing\" id=\"39248331\">\n",
       "<td align=\"right\" class=\"title\" valign=\"top\"><span class=\"rank\">23.</span></td> <td class=\"votelinks\" valign=\"top\"><center><a href=\"vote?id=39248331&amp;how=up&amp;goto=news\" id=\"up_39248331\"><div class=\"votearrow\" title=\"upvote\"></div></a></center></td><td class=\"title\"><span class=\"titleline\"><a href=\"https://aeon.co/essays/who-are-the-leaders-in-our-heads-and-how-did-they-get-there\">The mythos of leadership</a><span class=\"sitebit comhead\"> (<a href=\"from?site=aeon.co\"><span class=\"sitestr\">aeon.co</span></a>)</span></span></td></tr><tr><td colspan=\"2\"></td><td class=\"subtext\"><span class=\"subline\">\n",
       "<span class=\"score\" id=\"score_39248331\">50 points</span> by <a class=\"hnuser\" href=\"user?id=pepys\">pepys</a> <span class=\"age\" title=\"2024-02-04T07:21:57\"><a href=\"item?id=39248331\">5 hours ago</a></span> <span id=\"unv_39248331\"></span> | <a href=\"hide?id=39248331&amp;goto=news\">hide</a> | <a href=\"item?id=39248331\">37 comments</a> </span>\n",
       "</td></tr>\n",
       "<tr class=\"spacer\" style=\"height:5px\"></tr>\n",
       "<tr class=\"athing\" id=\"39279441\">\n",
       "<td align=\"right\" class=\"title\" valign=\"top\"><span class=\"rank\">24.</span></td> <td class=\"votelinks\" valign=\"top\"><center><a href=\"vote?id=39279441&amp;how=up&amp;goto=news\" id=\"up_39279441\"><div class=\"votearrow\" title=\"upvote\"></div></a></center></td><td class=\"title\"><span class=\"titleline\"><a href=\"https://techcrunch.com/2024/02/06/mozilla-monitors-new-service-removes-your-personal-info-from-data-broker-sites-automatically/\">Mozilla's new service removes your personal info from data brokers</a><span class=\"sitebit comhead\"> (<a href=\"from?site=techcrunch.com\"><span class=\"sitestr\">techcrunch.com</span></a>)</span></span></td></tr><tr><td colspan=\"2\"></td><td class=\"subtext\"><span class=\"subline\">\n",
       "<span class=\"score\" id=\"score_39279441\">17 points</span> by <a class=\"hnuser\" href=\"user?id=nathan_phoenix\">nathan_phoenix</a> <span class=\"age\" title=\"2024-02-06T19:40:14\"><a href=\"item?id=39279441\">49 minutes ago</a></span> <span id=\"unv_39279441\"></span> | <a href=\"hide?id=39279441&amp;goto=news\">hide</a> | <a href=\"item?id=39279441\">3 comments</a> </span>\n",
       "</td></tr>\n",
       "<tr class=\"spacer\" style=\"height:5px\"></tr>\n",
       "<tr class=\"athing\" id=\"39279113\">\n",
       "<td align=\"right\" class=\"title\" valign=\"top\"><span class=\"rank\">25.</span></td> <td class=\"votelinks\" valign=\"top\"><center><a href=\"vote?id=39279113&amp;how=up&amp;goto=news\" id=\"up_39279113\"><div class=\"votearrow\" title=\"upvote\"></div></a></center></td><td class=\"title\"><span class=\"titleline\"><a href=\"https://www.businessinsider.com/amazon-one-medical-pharmacy-layoffs-broader-cost-cutting-campaign-2024-2\">Amazon is chopping jobs at its One Medical and Pharmacy units</a><span class=\"sitebit comhead\"> (<a href=\"from?site=businessinsider.com\"><span class=\"sitestr\">businessinsider.com</span></a>)</span></span></td></tr><tr><td colspan=\"2\"></td><td class=\"subtext\"><span class=\"subline\">\n",
       "<span class=\"score\" id=\"score_39279113\">17 points</span> by <a class=\"hnuser\" href=\"user?id=mfiguiere\">mfiguiere</a> <span class=\"age\" title=\"2024-02-06T19:16:39\"><a href=\"item?id=39279113\">1 hour ago</a></span> <span id=\"unv_39279113\"></span> | <a href=\"hide?id=39279113&amp;goto=news\">hide</a> | <a href=\"item?id=39279113\">10 comments</a> </span>\n",
       "</td></tr>\n",
       "<tr class=\"spacer\" style=\"height:5px\"></tr>\n",
       "<tr class=\"athing\" id=\"39274631\">\n",
       "<td align=\"right\" class=\"title\" valign=\"top\"><span class=\"rank\">26.</span></td> <td class=\"votelinks\" valign=\"top\"><center><a href=\"vote?id=39274631&amp;how=up&amp;goto=news\" id=\"up_39274631\"><div class=\"votearrow\" title=\"upvote\"></div></a></center></td><td class=\"title\"><span class=\"titleline\"><a href=\"https://blog.mozilla.org/en/mozilla/introducing-mozilla-monitor-plus-a-new-tool-to-automatically-remove-your-personal-information-from-data-broker-sites/\">Mozilla Monitor Plus: automatically remove your personal info from data brokers</a><span class=\"sitebit comhead\"> (<a href=\"from?site=blog.mozilla.org\"><span class=\"sitestr\">blog.mozilla.org</span></a>)</span></span></td></tr><tr><td colspan=\"2\"></td><td class=\"subtext\"><span class=\"subline\">\n",
       "<span class=\"score\" id=\"score_39274631\">169 points</span> by <a class=\"hnuser\" href=\"user?id=mikece\">mikece</a> <span class=\"age\" title=\"2024-02-06T14:37:19\"><a href=\"item?id=39274631\">5 hours ago</a></span> <span id=\"unv_39274631\"></span> | <a href=\"hide?id=39274631&amp;goto=news\">hide</a> | <a href=\"item?id=39274631\">130 comments</a> </span>\n",
       "</td></tr>\n",
       "<tr class=\"spacer\" style=\"height:5px\"></tr>\n",
       "<tr class=\"athing\" id=\"39273308\">\n",
       "<td align=\"right\" class=\"title\" valign=\"top\"><span class=\"rank\">27.</span></td> <td class=\"votelinks\" valign=\"top\"><center><a href=\"vote?id=39273308&amp;how=up&amp;goto=news\" id=\"up_39273308\"><div class=\"votearrow\" title=\"upvote\"></div></a></center></td><td class=\"title\"><span class=\"titleline\"><a href=\"https://longform.asmartbear.com/survivor-bias/\">Business advice plagued by survivor bias (2009)</a><span class=\"sitebit comhead\"> (<a href=\"from?site=asmartbear.com\"><span class=\"sitestr\">asmartbear.com</span></a>)</span></span></td></tr><tr><td colspan=\"2\"></td><td class=\"subtext\"><span class=\"subline\">\n",
       "<span class=\"score\" id=\"score_39273308\">36 points</span> by <a class=\"hnuser\" href=\"user?id=Garbage\">Garbage</a> <span class=\"age\" title=\"2024-02-06T11:57:26\"><a href=\"item?id=39273308\">8 hours ago</a></span> <span id=\"unv_39273308\"></span> | <a href=\"hide?id=39273308&amp;goto=news\">hide</a> | <a href=\"item?id=39273308\">11 comments</a> </span>\n",
       "</td></tr>\n",
       "<tr class=\"spacer\" style=\"height:5px\"></tr>\n",
       "<tr class=\"athing\" id=\"39272884\">\n",
       "<td align=\"right\" class=\"title\" valign=\"top\"><span class=\"rank\">28.</span></td> <td class=\"votelinks\" valign=\"top\"><center><a href=\"vote?id=39272884&amp;how=up&amp;goto=news\" id=\"up_39272884\"><div class=\"votearrow\" title=\"upvote\"></div></a></center></td><td class=\"title\"><span class=\"titleline\"><a href=\"https://spaceweatherarchive.com/2024/02/01/will-satellite-megaconstellations-weaken-earths-magnetic-field/\">Will satellite megaconstellations weaken earth's magnetic field?</a><span class=\"sitebit comhead\"> (<a href=\"from?site=spaceweatherarchive.com\"><span class=\"sitestr\">spaceweatherarchive.com</span></a>)</span></span></td></tr><tr><td colspan=\"2\"></td><td class=\"subtext\"><span class=\"subline\">\n",
       "<span class=\"score\" id=\"score_39272884\">111 points</span> by <a class=\"hnuser\" href=\"user?id=altacc\">altacc</a> <span class=\"age\" title=\"2024-02-06T10:40:05\"><a href=\"item?id=39272884\">9 hours ago</a></span> <span id=\"unv_39272884\"></span> | <a href=\"hide?id=39272884&amp;goto=news\">hide</a> | <a href=\"item?id=39272884\">79 comments</a> </span>\n",
       "</td></tr>\n",
       "<tr class=\"spacer\" style=\"height:5px\"></tr>\n",
       "<tr class=\"athing\" id=\"39274440\">\n",
       "<td align=\"right\" class=\"title\" valign=\"top\"><span class=\"rank\">29.</span></td> <td class=\"votelinks\" valign=\"top\"><center><a href=\"vote?id=39274440&amp;how=up&amp;goto=news\" id=\"up_39274440\"><div class=\"votearrow\" title=\"upvote\"></div></a></center></td><td class=\"title\"><span class=\"titleline\"><a href=\"https://stratechery.com/2024/the-apple-vision-pro/\">The Apple Vision Pro</a><span class=\"sitebit comhead\"> (<a href=\"from?site=stratechery.com\"><span class=\"sitestr\">stratechery.com</span></a>)</span></span></td></tr><tr><td colspan=\"2\"></td><td class=\"subtext\"><span class=\"subline\">\n",
       "<span class=\"score\" id=\"score_39274440\">107 points</span> by <a class=\"hnuser\" href=\"user?id=allenleein\">allenleein</a> <span class=\"age\" title=\"2024-02-06T14:22:42\"><a href=\"item?id=39274440\">6 hours ago</a></span> <span id=\"unv_39274440\"></span> | <a href=\"hide?id=39274440&amp;goto=news\">hide</a> | <a href=\"item?id=39274440\">164 comments</a> </span>\n",
       "</td></tr>\n",
       "<tr class=\"spacer\" style=\"height:5px\"></tr>\n",
       "<tr class=\"athing\" id=\"39261241\">\n",
       "<td align=\"right\" class=\"title\" valign=\"top\"><span class=\"rank\">30.</span></td> <td class=\"votelinks\" valign=\"top\"><center><a href=\"vote?id=39261241&amp;how=up&amp;goto=news\" id=\"up_39261241\"><div class=\"votearrow\" title=\"upvote\"></div></a></center></td><td class=\"title\"><span class=\"titleline\"><a href=\"https://slimemoldtimemold.com/2024/02/03/lady-tasting-brine/\">Lady Tasting Brine</a><span class=\"sitebit comhead\"> (<a href=\"from?site=slimemoldtimemold.com\"><span class=\"sitestr\">slimemoldtimemold.com</span></a>)</span></span></td></tr><tr><td colspan=\"2\"></td><td class=\"subtext\"><span class=\"subline\">\n",
       "<span class=\"score\" id=\"score_39261241\">31 points</span> by <a class=\"hnuser\" href=\"user?id=surprisetalk\">surprisetalk</a> <span class=\"age\" title=\"2024-02-05T13:58:32\"><a href=\"item?id=39261241\">7 hours ago</a></span> <span id=\"unv_39261241\"></span> | <a href=\"hide?id=39261241&amp;goto=news\">hide</a> | <a href=\"item?id=39261241\">25 comments</a> </span>\n",
       "</td></tr>\n",
       "<tr class=\"spacer\" style=\"height:5px\"></tr>\n",
       "<tr class=\"morespace\" style=\"height:10px\"></tr><tr><td colspan=\"2\"></td>\n",
       "<td class=\"title\"><a class=\"morelink\" href=\"?p=2\" rel=\"next\">More</a></td> </tr>\n",
       "</table>\n",
       "</td></tr>\n",
       "<tr><td><img height=\"10\" src=\"s.gif\" width=\"0\"/><table cellpadding=\"1\" cellspacing=\"0\" width=\"100%\"><tr><td bgcolor=\"#ff6600\"></td></tr></table><br/>\n",
       "<center><span class=\"yclinks\"><a href=\"newsguidelines.html\">Guidelines</a> | <a href=\"newsfaq.html\">FAQ</a> | <a href=\"lists\">Lists</a> | <a href=\"https://github.com/HackerNews/API\">API</a> | <a href=\"security.html\">Security</a> | <a href=\"https://www.ycombinator.com/legal/\">Legal</a> | <a href=\"https://www.ycombinator.com/apply/\">Apply to YC</a> | <a href=\"mailto:hn@ycombinator.com\">Contact</a></span><br/><br/>\n",
       "<form action=\"//hn.algolia.com/\" method=\"get\">Search: <input autocapitalize=\"off\" autocomplete=\"false\" autocorrect=\"off\" name=\"q\" size=\"17\" spellcheck=\"false\" type=\"text\"/></form></center></td></tr> </table></center></body>\n",
       "<script src=\"hn.js?J16btoAd8hqdkSoIdLSk\" type=\"text/javascript\"></script>\n",
       "</html>"
      ]
     },
     "execution_count": 9,
     "metadata": {},
     "output_type": "execute_result"
    }
   ],
   "source": [
    "soup = BeautifulSoup(res.text)\n",
    "soup"
   ]
  },
  {
   "cell_type": "code",
   "execution_count": 10,
   "id": "46e51c04",
   "metadata": {},
   "outputs": [
    {
     "data": {
      "text/plain": [
       "<title>Hacker News</title>"
      ]
     },
     "execution_count": 10,
     "metadata": {},
     "output_type": "execute_result"
    }
   ],
   "source": [
    "soup.find(\"title\")"
   ]
  },
  {
   "cell_type": "code",
   "execution_count": 11,
   "id": "e18fe638",
   "metadata": {},
   "outputs": [],
   "source": [
    "soup.find(\"p\")"
   ]
  },
  {
   "cell_type": "code",
   "execution_count": 12,
   "id": "07d862b6",
   "metadata": {},
   "outputs": [
    {
     "data": {
      "text/plain": [
       "<meta content=\"origin\" name=\"referrer\"/>"
      ]
     },
     "execution_count": 12,
     "metadata": {},
     "output_type": "execute_result"
    }
   ],
   "source": [
    "soup.find(\"meta\")"
   ]
  },
  {
   "cell_type": "code",
   "execution_count": 13,
   "id": "7d3e48ef",
   "metadata": {},
   "outputs": [
    {
     "data": {
      "text/plain": [
       "<link href=\"news.css?J16btoAd8hqdkSoIdLSk\" rel=\"stylesheet\" type=\"text/css\"/>"
      ]
     },
     "execution_count": 13,
     "metadata": {},
     "output_type": "execute_result"
    }
   ],
   "source": [
    "soup.find(\"link\")"
   ]
  },
  {
   "cell_type": "code",
   "execution_count": 14,
   "id": "a9397a78",
   "metadata": {},
   "outputs": [
    {
     "data": {
      "text/plain": [
       "[<link href=\"news.css?J16btoAd8hqdkSoIdLSk\" rel=\"stylesheet\" type=\"text/css\"/>,\n",
       " <link href=\"y18.svg\" rel=\"icon\"/>,\n",
       " <link href=\"rss\" rel=\"alternate\" title=\"RSS\" type=\"application/rss+xml\"/>]"
      ]
     },
     "execution_count": 14,
     "metadata": {},
     "output_type": "execute_result"
    }
   ],
   "source": [
    "soup.find_all(\"link\")"
   ]
  },
  {
   "cell_type": "code",
   "execution_count": 15,
   "id": "f5fabbc3",
   "metadata": {},
   "outputs": [
    {
     "name": "stdout",
     "output_type": "stream",
     "text": [
      "30\n"
     ]
    }
   ],
   "source": [
    "links=soup.find_all(\"span\",attrs={\"class\":\"titleline\"}) \n",
    "# attributes helps us find the place \n",
    "print(len(links))\n"
   ]
  },
  {
   "cell_type": "code",
   "execution_count": 16,
   "id": "61755752",
   "metadata": {},
   "outputs": [
    {
     "data": {
      "text/plain": [
       "<span class=\"titleline\"><a href=\"https://github.com/AdguardTeam/AdGuardHome\">Runs on your OpenWrt box: AdGuard Home is network-wide blocking ads and tracking</a><span class=\"sitebit comhead\"> (<a href=\"from?site=github.com/adguardteam\"><span class=\"sitestr\">github.com/adguardteam</span></a>)</span></span>"
      ]
     },
     "execution_count": 16,
     "metadata": {},
     "output_type": "execute_result"
    }
   ],
   "source": [
    "soup.find_all(\"span\",attrs={\"class\":\"titleline\"})[1]"
   ]
  },
  {
   "cell_type": "code",
   "execution_count": 17,
   "id": "cfbc3797",
   "metadata": {},
   "outputs": [
    {
     "data": {
      "text/plain": [
       "'New IBM LinuxONE 4 Express – Rack-mounted pre-configured Linux mainframe (ibm.com)'"
      ]
     },
     "execution_count": 17,
     "metadata": {},
     "output_type": "execute_result"
    }
   ],
   "source": [
    "soup.find_all(\"span\",attrs={\"class\":\"titleline\"})[0].text"
   ]
  },
  {
   "cell_type": "code",
   "execution_count": null,
   "id": "ebed79dc",
   "metadata": {},
   "outputs": [],
   "source": []
  },
  {
   "cell_type": "markdown",
   "id": "1d5bc0d8",
   "metadata": {},
   "source": [
    "# SElect"
   ]
  },
  {
   "cell_type": "code",
   "execution_count": null,
   "id": "8acb85c0",
   "metadata": {},
   "outputs": [],
   "source": []
  },
  {
   "cell_type": "code",
   "execution_count": 18,
   "id": "580fd3b9",
   "metadata": {},
   "outputs": [
    {
     "name": "stdout",
     "output_type": "stream",
     "text": [
      "0 New IBM LinuxONE 4 Express – Rack-mounted pre-configured Linux mainframe (ibm.com)  \n",
      " \n",
      "1 Runs on your OpenWrt box: AdGuard Home is network-wide blocking ads and tracking (github.com/adguardteam)  \n",
      " \n",
      "2 Why I Live in IRC (2015) (aaronparecki.com)  \n",
      " \n",
      "3 The world is awful. The world is much better. The world can be much better (ourworldindata.org)  \n",
      " \n",
      "4 Command line interface guidelines (2021) (clig.dev)  \n",
      " \n",
      "5 NetBox: a source of truth for everything on your network (netbox.dev)  \n",
      " \n",
      "6 The perverse policies that fuel wildfires (newyorker.com)  \n",
      " \n",
      "7 How Lego Became the Apple of Toys (2015) (fastcompany.com)  \n",
      " \n",
      "8 BuildKit in depth: Docker's build engine explained (depot.dev)  \n",
      " \n",
      "9 Better Call GPT: Comparing large language models against lawyers [pdf] (arxiv.org)  \n",
      " \n"
     ]
    }
   ],
   "source": [
    "for i in range(0,10):\n",
    "    print(i,soup.select(\".titleline\")[i].text,\" \\n \")\n"
   ]
  },
  {
   "cell_type": "code",
   "execution_count": 19,
   "id": "2ecc7ce4",
   "metadata": {},
   "outputs": [
    {
     "name": "stdout",
     "output_type": "stream",
     "text": [
      "22 points\n"
     ]
    }
   ],
   "source": [
    "first_score=soup.select('.score')[0].get_text()\n",
    "\n",
    "print(first_score)\n"
   ]
  },
  {
   "cell_type": "code",
   "execution_count": 20,
   "id": "de5f5151",
   "metadata": {},
   "outputs": [],
   "source": [
    "title =soup.select(\".titleline\")"
   ]
  },
  {
   "cell_type": "code",
   "execution_count": 21,
   "id": "c4da0904",
   "metadata": {},
   "outputs": [],
   "source": [
    "score=soup.select(\".score\")"
   ]
  },
  {
   "cell_type": "code",
   "execution_count": 22,
   "id": "aa89a64f",
   "metadata": {},
   "outputs": [
    {
     "data": {
      "text/plain": [
       "29"
      ]
     },
     "execution_count": 22,
     "metadata": {},
     "output_type": "execute_result"
    }
   ],
   "source": [
    "len(score)"
   ]
  },
  {
   "cell_type": "code",
   "execution_count": 32,
   "id": "dc448d3d",
   "metadata": {},
   "outputs": [
    {
     "name": "stdout",
     "output_type": "stream",
     "text": [
      "22 points ---  New IBM LinuxONE 4 Express – Rack-mounted pre-configured Linux mainframe (ibm.com)\n",
      "https://newsroom.ibm.com/2024-02-06-New-IBM-LinuxONE-4-Express-to-Offer-Cost-Savings-and-Client-Value-through-a-Cyber-Resilient-Hybrid-Cloud-and-AI-Platform\n",
      "\n",
      "137 points ---  Runs on your OpenWrt box: AdGuard Home is network-wide blocking ads and tracking (github.com/adguardteam)\n",
      "https://github.com/AdguardTeam/AdGuardHome\n",
      "\n",
      "29 points ---  Why I Live in IRC (2015) (aaronparecki.com)\n",
      "https://aaronparecki.com/2015/08/29/8/why-i-live-in-irc\n",
      "\n",
      "166 points ---  The world is awful. The world is much better. The world can be much better (ourworldindata.org)\n",
      "https://ourworldindata.org/much-better-awful-can-be-better\n",
      "\n",
      "269 points ---  Command line interface guidelines (2021) (clig.dev)\n",
      "https://clig.dev/\n",
      "\n",
      "168 points ---  NetBox: a source of truth for everything on your network (netbox.dev)\n",
      "https://netbox.dev/\n",
      "\n",
      "62 points ---  The perverse policies that fuel wildfires (newyorker.com)\n",
      "https://www.newyorker.com/magazine/2024/02/05/the-perverse-policies-that-fuel-wildfires\n",
      "\n",
      "37 points ---  How Lego Became the Apple of Toys (2015) (fastcompany.com)\n",
      "https://www.fastcompany.com/3040223/when-it-clicks-it-clicks\n",
      "\n",
      "46 points ---  BuildKit in depth: Docker's build engine explained (depot.dev)\n",
      "https://depot.dev/blog/buildkit-in-depth\n",
      "\n",
      "258 points ---  Better Call GPT: Comparing large language models against lawyers [pdf] (arxiv.org)\n",
      "https://arxiv.org/abs/2401.16212\n",
      "\n",
      "127 points ---  What happened with the Web Monetization API? (chriscoyier.net)\n",
      "https://chriscoyier.net/2024/01/24/what-happened-with-the-web-monetization-api/\n",
      "\n",
      "174 points ---  We might want to regularly keep track of how important each server is (utoronto.ca)\n",
      "https://utcc.utoronto.ca/~cks/space/blog/sysadmin/TrackingMachineImportance\n",
      "\n",
      "55 points ---  PlayHT (YC W23) Is Hiring a Founding LLM Engineer and Researcher (ycombinator.com)\n",
      "https://www.ycombinator.com/companies/playht/jobs/G6vI660-senior-ml-engineer-large-language-models\n",
      "\n",
      "110 points ---  Paintings reveal how the Dutch adapted to extreme weather in the little Ice Age (smithsonianmag.com)\n",
      "https://www.smithsonianmag.com/history/these-paintings-reveal-how-the-dutch-adapted-to-extreme-weather-during-the-little-ice-age-180983671/\n",
      "\n",
      "45 points ---  Three million malware-infected smart toothbrushes used in Swiss DDoS attacks (tomshardware.com)\n",
      "https://www.tomshardware.com/networking/three-million-malware-infected-smart-toothbrushes-used-in-swiss-ddos-attacks-botnet-causes-millions-of-euros-in-damages\n",
      "\n",
      "120 points ---  Instruction-Based Image Editing via LLM (github.com/apple)\n",
      "https://github.com/apple/ml-mgie\n",
      "\n",
      "18 points ---  Write a Letter to Your Future Self (futureme.org)\n",
      "https://www.futureme.org/\n",
      "\n",
      "5 points ---  The ancient Germanic history of Groundhog Day (bbc.com)\n",
      "https://www.bbc.com/future/article/20240131-how-the-pennsylvania-dutch-created-groundhog-day\n",
      "\n",
      "144 points ---  What is a hard error, and what makes it harder than an easy error? (microsoft.com)\n",
      "https://devblogs.microsoft.com/oldnewthing/20240116-00/?p=109274\n",
      "\n",
      "52 points ---  Bluesky and the AT Protocol: Usable decentralized social media (arxiv.org)\n",
      "https://arxiv.org/abs/2402.03239\n",
      "\n"
     ]
    }
   ],
   "source": [
    "for i in range(0,20):\n",
    "    print(score[i].get_text(),\"--- \",title[i].get_text())\n",
    "    #print(soup.select('.titleline')[i].find(\"a\")['href'])\n",
    "    print(title[i].find(\"a\")['href'])\n",
    "    print()"
   ]
  },
  {
   "cell_type": "code",
   "execution_count": 24,
   "id": "28f3b10e",
   "metadata": {},
   "outputs": [
    {
     "data": {
      "text/plain": [
       "'https://newsroom.ibm.com/2024-02-06-New-IBM-LinuxONE-4-Express-to-Offer-Cost-Savings-and-Client-Value-through-a-Cyber-Resilient-Hybrid-Cloud-and-AI-Platform'"
      ]
     },
     "execution_count": 24,
     "metadata": {},
     "output_type": "execute_result"
    }
   ],
   "source": [
    "soup.select('.titleline')[0].find(\"a\")['href']\n"
   ]
  },
  {
   "cell_type": "code",
   "execution_count": 29,
   "id": "70f38565",
   "metadata": {},
   "outputs": [
    {
     "ename": "AttributeError",
     "evalue": "ResultSet object has no attribute 'find_all'. You're probably treating a list of elements like a single element. Did you call find_all() when you meant to call find()?",
     "output_type": "error",
     "traceback": [
      "\u001b[1;31m---------------------------------------------------------------------------\u001b[0m",
      "\u001b[1;31mAttributeError\u001b[0m                            Traceback (most recent call last)",
      "\u001b[1;32m~\\AppData\\Local\\Temp\\ipykernel_20784\\2604446584.py\u001b[0m in \u001b[0;36m<module>\u001b[1;34m\u001b[0m\n\u001b[1;32m----> 1\u001b[1;33m \u001b[0mlink\u001b[0m \u001b[1;33m=\u001b[0m \u001b[0msoup\u001b[0m\u001b[1;33m.\u001b[0m\u001b[0mselect\u001b[0m\u001b[1;33m(\u001b[0m\u001b[1;34m'.titleline'\u001b[0m\u001b[1;33m)\u001b[0m\u001b[1;33m.\u001b[0m\u001b[0mfind_all\u001b[0m\u001b[1;33m(\u001b[0m\u001b[1;34m'a'\u001b[0m\u001b[1;33m)\u001b[0m\u001b[1;33m[\u001b[0m\u001b[1;34m'href'\u001b[0m\u001b[1;33m]\u001b[0m\u001b[1;33m\u001b[0m\u001b[1;33m\u001b[0m\u001b[0m\n\u001b[0m\u001b[0;32m      2\u001b[0m \u001b[0mprint\u001b[0m\u001b[1;33m(\u001b[0m\u001b[0mlink\u001b[0m\u001b[1;33m)\u001b[0m\u001b[1;33m\u001b[0m\u001b[1;33m\u001b[0m\u001b[0m\n",
      "\u001b[1;32m~\\anaconda3\\lib\\site-packages\\bs4\\element.py\u001b[0m in \u001b[0;36m__getattr__\u001b[1;34m(self, key)\u001b[0m\n\u001b[0;32m   2287\u001b[0m     \u001b[1;32mdef\u001b[0m \u001b[0m__getattr__\u001b[0m\u001b[1;33m(\u001b[0m\u001b[0mself\u001b[0m\u001b[1;33m,\u001b[0m \u001b[0mkey\u001b[0m\u001b[1;33m)\u001b[0m\u001b[1;33m:\u001b[0m\u001b[1;33m\u001b[0m\u001b[1;33m\u001b[0m\u001b[0m\n\u001b[0;32m   2288\u001b[0m         \u001b[1;34m\"\"\"Raise a helpful exception to explain a common code fix.\"\"\"\u001b[0m\u001b[1;33m\u001b[0m\u001b[1;33m\u001b[0m\u001b[0m\n\u001b[1;32m-> 2289\u001b[1;33m         raise AttributeError(\n\u001b[0m\u001b[0;32m   2290\u001b[0m             \u001b[1;34m\"ResultSet object has no attribute '%s'. You're probably treating a list of elements like a single element. Did you call find_all() when you meant to call find()?\"\u001b[0m \u001b[1;33m%\u001b[0m \u001b[0mkey\u001b[0m\u001b[1;33m\u001b[0m\u001b[1;33m\u001b[0m\u001b[0m\n\u001b[0;32m   2291\u001b[0m         )\n",
      "\u001b[1;31mAttributeError\u001b[0m: ResultSet object has no attribute 'find_all'. You're probably treating a list of elements like a single element. Did you call find_all() when you meant to call find()?"
     ]
    }
   ],
   "source": []
  },
  {
   "cell_type": "code",
   "execution_count": null,
   "id": "835e769c",
   "metadata": {},
   "outputs": [],
   "source": []
  }
 ],
 "metadata": {
  "kernelspec": {
   "display_name": "Python 3 (ipykernel)",
   "language": "python",
   "name": "python3"
  },
  "language_info": {
   "codemirror_mode": {
    "name": "ipython",
    "version": 3
   },
   "file_extension": ".py",
   "mimetype": "text/x-python",
   "name": "python",
   "nbconvert_exporter": "python",
   "pygments_lexer": "ipython3",
   "version": "3.9.13"
  }
 },
 "nbformat": 4,
 "nbformat_minor": 5
}
