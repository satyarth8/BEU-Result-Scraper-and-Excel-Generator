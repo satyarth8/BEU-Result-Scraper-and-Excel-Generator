{
 "cells": [
  {
   "cell_type": "markdown",
   "id": "bdb69960",
   "metadata": {},
   "source": [
    "Post request"
   ]
  },
  {
   "cell_type": "code",
   "execution_count": 4,
   "id": "f2b1d15d",
   "metadata": {},
   "outputs": [],
   "source": [
    "url=\"https://pastebin.com/api/api_post.php\""
   ]
  },
  {
   "cell_type": "code",
   "execution_count": 5,
   "id": "1913be18",
   "metadata": {},
   "outputs": [],
   "source": [
    "import requests"
   ]
  },
  {
   "cell_type": "code",
   "execution_count": 7,
   "id": "fcb367e3",
   "metadata": {},
   "outputs": [],
   "source": [
    "paste_str=\"Hello Satyarth this is your first post call\"\n",
    "data={'api_dev_key' : 'W3zosmLx7JH5ZuZ5w0Eq4Ncr3tBScK_J', \n",
    "        'api_option' : 'paste',\n",
    "      'api_paste_code': paste_str}\n"
   ]
  },
  {
   "cell_type": "code",
   "execution_count": 10,
   "id": "475b6ce7",
   "metadata": {},
   "outputs": [
    {
     "data": {
      "text/plain": [
       "200"
      ]
     },
     "execution_count": 10,
     "metadata": {},
     "output_type": "execute_result"
    }
   ],
   "source": [
    "res=requests.post(url,data)\n",
    "res.status_code"
   ]
  },
  {
   "cell_type": "code",
   "execution_count": 11,
   "id": "4b401bbf",
   "metadata": {},
   "outputs": [
    {
     "data": {
      "text/plain": [
       "True"
      ]
     },
     "execution_count": 11,
     "metadata": {},
     "output_type": "execute_result"
    }
   ],
   "source": [
    "res.ok"
   ]
  },
  {
   "cell_type": "code",
   "execution_count": 12,
   "id": "9dbcde57",
   "metadata": {},
   "outputs": [
    {
     "data": {
      "text/plain": [
       "'https://pastebin.com/ihubZaja'"
      ]
     },
     "execution_count": 12,
     "metadata": {},
     "output_type": "execute_result"
    }
   ],
   "source": [
    "res.text"
   ]
  },
  {
   "cell_type": "code",
   "execution_count": null,
   "id": "6fa2962c",
   "metadata": {},
   "outputs": [],
   "source": []
  }
 ],
 "metadata": {
  "kernelspec": {
   "display_name": "Python 3 (ipykernel)",
   "language": "python",
   "name": "python3"
  },
  "language_info": {
   "codemirror_mode": {
    "name": "ipython",
    "version": 3
   },
   "file_extension": ".py",
   "mimetype": "text/x-python",
   "name": "python",
   "nbconvert_exporter": "python",
   "pygments_lexer": "ipython3",
   "version": "3.9.13"
  }
 },
 "nbformat": 4,
 "nbformat_minor": 5
}
