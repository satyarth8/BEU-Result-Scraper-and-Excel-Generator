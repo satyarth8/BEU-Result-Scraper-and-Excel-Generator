{
 "cells": [
  {
   "cell_type": "code",
   "execution_count": 1,
   "id": "afb5127f",
   "metadata": {},
   "outputs": [],
   "source": [
    "from bs4 import BeautifulSoup\n",
    "import requests\n",
    "import time "
   ]
  },
  {
   "cell_type": "code",
   "execution_count": 2,
   "id": "a51d32f1",
   "metadata": {},
   "outputs": [],
   "source": [
    "url=\"https://news.ycombinator.com/\"\n",
    "res=requests.get(url)\n",
    "soup=BeautifulSoup(res.text)\n",
    "    \n",
    "title =soup.select(\".titleline\")\n",
    "score=soup.select(\".score\")"
   ]
  },
  {
   "cell_type": "code",
   "execution_count": 4,
   "id": "be6a4051",
   "metadata": {},
   "outputs": [],
   "source": [
    "import csv\n",
    "with open(\"output1234.csv\",'w',newline='')as csvfile:\n",
    "    csvwriter=csv.writer(csvfile)\n",
    "    csvwriter.writerow([\"link\",\"Text\",\"score\"])\n",
    "    for i in range(0,20):\n",
    "        csvwriter.writerow([title[i].find(\"a\")['href'],title[i].get_text(),score[i].get_text()])"
   ]
  },
  {
   "cell_type": "code",
   "execution_count": null,
   "id": "68a3a5e4",
   "metadata": {},
   "outputs": [],
   "source": []
  }
 ],
 "metadata": {
  "kernelspec": {
   "display_name": "Python 3 (ipykernel)",
   "language": "python",
   "name": "python3"
  },
  "language_info": {
   "codemirror_mode": {
    "name": "ipython",
    "version": 3
   },
   "file_extension": ".py",
   "mimetype": "text/x-python",
   "name": "python",
   "nbconvert_exporter": "python",
   "pygments_lexer": "ipython3",
   "version": "3.9.13"
  }
 },
 "nbformat": 4,
 "nbformat_minor": 5
}
